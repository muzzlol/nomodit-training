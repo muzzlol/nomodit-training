{
  "cells": [
    {
      "cell_type": "markdown",
      "metadata": {
        "id": "jhNIYMMHTe-Z"
      },
      "source": [
        "### Installation"
      ]
    },
    {
      "cell_type": "code",
      "execution_count": null,
      "metadata": {
        "execution": {
          "iopub.execute_input": "2025-04-18T16:33:56.401352Z",
          "iopub.status.busy": "2025-04-18T16:33:56.401089Z",
          "iopub.status.idle": "2025-04-18T16:37:24.280591Z",
          "shell.execute_reply": "2025-04-18T16:37:24.279714Z",
          "shell.execute_reply.started": "2025-04-18T16:33:56.401332Z"
        },
        "id": "aKwfhyr4BGVL",
        "trusted": true
      },
      "outputs": [],
      "source": [
        "%%capture\n",
        "!pip install unsloth vllm"
      ]
    },
    {
      "cell_type": "code",
      "execution_count": null,
      "metadata": {
        "execution": {
          "iopub.execute_input": "2025-04-18T16:37:24.282746Z",
          "iopub.status.busy": "2025-04-18T16:37:24.282319Z",
          "iopub.status.idle": "2025-04-18T16:38:03.968603Z",
          "shell.execute_reply": "2025-04-18T16:38:03.967861Z",
          "shell.execute_reply.started": "2025-04-18T16:37:24.282714Z"
        },
        "id": "r9aEj901BGVM",
        "trusted": true
      },
      "outputs": [],
      "source": [
        "%%capture\n",
        "!pip install --no-deps git+https://github.com/huggingface/transformers@v4.49.0-Gemma-3"
      ]
    },
    {
      "cell_type": "code",
      "execution_count": null,
      "metadata": {
        "execution": {
          "iopub.execute_input": "2025-04-18T16:38:03.969738Z",
          "iopub.status.busy": "2025-04-18T16:38:03.969515Z",
          "iopub.status.idle": "2025-04-18T16:38:37.226299Z",
          "shell.execute_reply": "2025-04-18T16:38:37.225564Z",
          "shell.execute_reply.started": "2025-04-18T16:38:03.969716Z"
        },
        "id": "plqo4gwYBGVM",
        "outputId": "b5b9126c-9c02-4578-d6b0-701c307454dd",
        "trusted": true
      },
      "outputs": [
        {
          "name": "stdout",
          "output_type": "stream",
          "text": [
            "🦥 Unsloth: Will patch your computer to enable 2x faster free finetuning.\n"
          ]
        },
        {
          "name": "stderr",
          "output_type": "stream",
          "text": [
            "2025-04-18 16:38:14.445078: E external/local_xla/xla/stream_executor/cuda/cuda_fft.cc:477] Unable to register cuFFT factory: Attempting to register factory for plugin cuFFT when one has already been registered\n",
            "WARNING: All log messages before absl::InitializeLog() is called are written to STDERR\n",
            "E0000 00:00:1744994294.656942      31 cuda_dnn.cc:8310] Unable to register cuDNN factory: Attempting to register factory for plugin cuDNN when one has already been registered\n",
            "E0000 00:00:1744994294.714038      31 cuda_blas.cc:1418] Unable to register cuBLAS factory: Attempting to register factory for plugin cuBLAS when one has already been registered\n"
          ]
        },
        {
          "name": "stdout",
          "output_type": "stream",
          "text": [
            "🦥 Unsloth Zoo will now patch everything to make training faster!\n",
            "INFO 04-18 16:38:32 [__init__.py:239] Automatically detected platform cuda.\n"
          ]
        }
      ],
      "source": [
        "from unsloth import FastModel\n"
      ]
    },
    {
      "cell_type": "code",
      "execution_count": null,
      "metadata": {
        "colab": {
          "referenced_widgets": [
            "a8a2ae5e8b4345f58a8bdf1b024833b9",
            "2525e38590fe4374b13be506bd6d4a66",
            "edbd589297d34fc39387eaaad93d8e3a",
            "830d0e299d83460b8d5f7426bc8522c1",
            "320da42a40304aaaa6a3c4176efefb7f",
            "28a963b5b9314b04bfbbd25cfc5e5e9e",
            "446456314ac44de7a39ff15f815fdfe7",
            "bbc009e52d6e42fb82e7e048b190d549",
            "6abd2bf72b014e95823274ab68ee5a12",
            "28e96b69c2ed4e4d9c8e77749db02091"
          ]
        },
        "execution": {
          "iopub.execute_input": "2025-04-18T16:38:37.39778Z",
          "iopub.status.busy": "2025-04-18T16:38:37.397458Z",
          "iopub.status.idle": "2025-04-18T16:39:18.135468Z",
          "shell.execute_reply": "2025-04-18T16:39:18.134774Z",
          "shell.execute_reply.started": "2025-04-18T16:38:37.39775Z"
        },
        "id": "-Xbb0cuLzwgf",
        "outputId": "7577687d-d7a7-426c-d134-1f61eb79cae9",
        "trusted": true
      },
      "outputs": [
        {
          "name": "stdout",
          "output_type": "stream",
          "text": [
            "==((====))==  Unsloth 2025.3.19: Fast Gemma3 patching. Transformers: 4.50.0.dev0. vLLM: 0.8.4.\n",
            "   \\\\   /|    Tesla T4. Num GPUs = 2. Max memory: 14.741 GB. Platform: Linux.\n",
            "O^O/ \\_/ \\    Torch: 2.6.0+cu124. CUDA: 7.5. CUDA Toolkit: 12.4. Triton: 3.2.0\n",
            "\\        /    Bfloat16 = FALSE. FA [Xformers = 0.0.29.post2. FA2 = False]\n",
            " \"-____-\"     Free license: http://github.com/unslothai/unsloth\n",
            "Unsloth: Fast downloading is enabled - ignore downloading bars which are red colored!\n",
            "Unsloth: Using float16 precision for gemma3 won't work! Using float32.\n"
          ]
        },
        {
          "data": {
            "application/vnd.jupyter.widget-view+json": {
              "model_id": "a8a2ae5e8b4345f58a8bdf1b024833b9",
              "version_major": 2,
              "version_minor": 0
            },
            "text/plain": [
              "model.safetensors:   0%|          | 0.00/4.56G [00:00<?, ?B/s]"
            ]
          },
          "metadata": {},
          "output_type": "display_data"
        },
        {
          "data": {
            "application/vnd.jupyter.widget-view+json": {
              "model_id": "2525e38590fe4374b13be506bd6d4a66",
              "version_major": 2,
              "version_minor": 0
            },
            "text/plain": [
              "generation_config.json:   0%|          | 0.00/210 [00:00<?, ?B/s]"
            ]
          },
          "metadata": {},
          "output_type": "display_data"
        },
        {
          "data": {
            "application/vnd.jupyter.widget-view+json": {
              "model_id": "edbd589297d34fc39387eaaad93d8e3a",
              "version_major": 2,
              "version_minor": 0
            },
            "text/plain": [
              "processor_config.json:   0%|          | 0.00/70.0 [00:00<?, ?B/s]"
            ]
          },
          "metadata": {},
          "output_type": "display_data"
        },
        {
          "data": {
            "application/vnd.jupyter.widget-view+json": {
              "model_id": "830d0e299d83460b8d5f7426bc8522c1",
              "version_major": 2,
              "version_minor": 0
            },
            "text/plain": [
              "chat_template.json:   0%|          | 0.00/1.61k [00:00<?, ?B/s]"
            ]
          },
          "metadata": {},
          "output_type": "display_data"
        },
        {
          "data": {
            "application/vnd.jupyter.widget-view+json": {
              "model_id": "320da42a40304aaaa6a3c4176efefb7f",
              "version_major": 2,
              "version_minor": 0
            },
            "text/plain": [
              "preprocessor_config.json:   0%|          | 0.00/570 [00:00<?, ?B/s]"
            ]
          },
          "metadata": {},
          "output_type": "display_data"
        },
        {
          "name": "stderr",
          "output_type": "stream",
          "text": [
            "Using a slow image processor as `use_fast` is unset and a slow processor was saved with this model. `use_fast=True` will be the default behavior in v4.48, even if the model was saved with a slow processor. This will result in minor differences in outputs. You'll still be able to use a slow processor with `use_fast=False`.\n"
          ]
        },
        {
          "data": {
            "application/vnd.jupyter.widget-view+json": {
              "model_id": "28a963b5b9314b04bfbbd25cfc5e5e9e",
              "version_major": 2,
              "version_minor": 0
            },
            "text/plain": [
              "tokenizer_config.json:   0%|          | 0.00/1.16M [00:00<?, ?B/s]"
            ]
          },
          "metadata": {},
          "output_type": "display_data"
        },
        {
          "data": {
            "application/vnd.jupyter.widget-view+json": {
              "model_id": "446456314ac44de7a39ff15f815fdfe7",
              "version_major": 2,
              "version_minor": 0
            },
            "text/plain": [
              "tokenizer.model:   0%|          | 0.00/4.69M [00:00<?, ?B/s]"
            ]
          },
          "metadata": {},
          "output_type": "display_data"
        },
        {
          "data": {
            "application/vnd.jupyter.widget-view+json": {
              "model_id": "bbc009e52d6e42fb82e7e048b190d549",
              "version_major": 2,
              "version_minor": 0
            },
            "text/plain": [
              "tokenizer.json:   0%|          | 0.00/33.4M [00:00<?, ?B/s]"
            ]
          },
          "metadata": {},
          "output_type": "display_data"
        },
        {
          "data": {
            "application/vnd.jupyter.widget-view+json": {
              "model_id": "6abd2bf72b014e95823274ab68ee5a12",
              "version_major": 2,
              "version_minor": 0
            },
            "text/plain": [
              "added_tokens.json:   0%|          | 0.00/35.0 [00:00<?, ?B/s]"
            ]
          },
          "metadata": {},
          "output_type": "display_data"
        },
        {
          "data": {
            "application/vnd.jupyter.widget-view+json": {
              "model_id": "28e96b69c2ed4e4d9c8e77749db02091",
              "version_major": 2,
              "version_minor": 0
            },
            "text/plain": [
              "special_tokens_map.json:   0%|          | 0.00/670 [00:00<?, ?B/s]"
            ]
          },
          "metadata": {},
          "output_type": "display_data"
        }
      ],
      "source": [
        "import torch\n",
        "\n",
        "model, tokenizer = FastModel.from_pretrained(\n",
        "    model_name = \"unsloth/gemma-3-4b-it-unsloth-bnb-4bit\",\n",
        "    max_seq_length = 256, # Choose any for long context!\n",
        "    load_in_4bit = True,  # 4 bit quantization to reduce memory\n",
        "    load_in_8bit = False,\n",
        "    full_finetuning = False,\n",
        ")"
      ]
    },
    {
      "cell_type": "code",
      "execution_count": null,
      "metadata": {
        "colab": {
          "base_uri": "https://localhost:8080/"
        },
        "execution": {
          "iopub.execute_input": "2025-04-18T16:39:18.137034Z",
          "iopub.status.busy": "2025-04-18T16:39:18.13671Z",
          "iopub.status.idle": "2025-04-18T16:39:18.141414Z",
          "shell.execute_reply": "2025-04-18T16:39:18.140713Z",
          "shell.execute_reply.started": "2025-04-18T16:39:18.137006Z"
        },
        "id": "v89dHHxnC07i",
        "outputId": "1f0599ea-7114-43ea-e8d4-1ab4bf51925b",
        "trusted": true
      },
      "outputs": [
        {
          "name": "stdout",
          "output_type": "stream",
          "text": [
            "True\n",
            "True\n",
            "QuantizationMethod.BITS_AND_BYTES\n"
          ]
        }
      ],
      "source": [
        "print(model.is_loaded_in_4bit)\n",
        "print(model.is_quantized)\n",
        "print(model.quantization_method)"
      ]
    },
    {
      "cell_type": "markdown",
      "metadata": {
        "id": "SXd9bTZd1aaL"
      },
      "source": [
        "We now add LoRA adapters so we only need to update a small amount of parameters!"
      ]
    },
    {
      "cell_type": "code",
      "execution_count": null,
      "metadata": {
        "colab": {
          "base_uri": "https://localhost:8080/"
        },
        "execution": {
          "iopub.execute_input": "2025-04-18T16:39:18.1429Z",
          "iopub.status.busy": "2025-04-18T16:39:18.142345Z",
          "iopub.status.idle": "2025-04-18T16:39:26.860507Z",
          "shell.execute_reply": "2025-04-18T16:39:26.859601Z",
          "shell.execute_reply.started": "2025-04-18T16:39:18.142877Z"
        },
        "id": "6bZsfBuZDeCL",
        "outputId": "d503b5bc-e508-4e6c-b253-ae7012ec0bd2",
        "trusted": true
      },
      "outputs": [
        {
          "name": "stdout",
          "output_type": "stream",
          "text": [
            "Unsloth: Making `model.base_model.model.language_model.model` require gradients\n"
          ]
        }
      ],
      "source": [
        "model = FastModel.get_peft_model(\n",
        "    model,\n",
        "    finetune_vision_layers     = False, # Turn off for just text!\n",
        "    finetune_language_layers   = True,  # Should leave on!\n",
        "    finetune_attention_modules = True,  # Attention good\n",
        "    finetune_mlp_modules       = True,  # SHould leave on always!\n",
        "\n",
        "    r = 16,           # Larger = higher accuracy, but no significant improvements. check LoRA paper\n",
        "    lora_alpha = 32,  # Recommended alpha == r at least\n",
        "    lora_dropout = 0.1,\n",
        "    bias = \"none\",\n",
        "    random_state = 3407,\n",
        ")"
      ]
    },
    {
      "cell_type": "code",
      "execution_count": null,
      "metadata": {
        "execution": {
          "iopub.execute_input": "2025-04-18T16:39:26.861531Z",
          "iopub.status.busy": "2025-04-18T16:39:26.861311Z",
          "iopub.status.idle": "2025-04-18T16:39:26.866275Z",
          "shell.execute_reply": "2025-04-18T16:39:26.865635Z",
          "shell.execute_reply.started": "2025-04-18T16:39:26.861508Z"
        },
        "id": "LjY75GoYUCB8",
        "trusted": true
      },
      "outputs": [],
      "source": [
        "from unsloth.chat_templates import get_chat_template\n",
        "tokenizer = get_chat_template(\n",
        "    tokenizer,\n",
        "    chat_template = \"gemma-3\",\n",
        ")"
      ]
    },
    {
      "cell_type": "code",
      "execution_count": null,
      "metadata": {
        "colab": {
          "base_uri": "https://localhost:8080/",
          "height": 177,
          "referenced_widgets": [
            "63f0e9d9780a4358b66e86cec4c78929",
            "ace2e199970c4dc0ab2d84dda5bc0841",
            "c9bb23cc79214ffca35b965ce6342e96",
            "64a8e73f85d14426919b08ebc4253987",
            "b75f552e448341dd83572a6e9c9622b1",
            "dce0de8bb9534325850e7877b12de36c",
            "7dae7417784949f78136a067752f28f2",
            "d62c5523b89d44abb8c8b0e12fc5d743",
            "c0ba0a899a934379b2b6441dc4e041a9",
            "87740d5f0c3f41dab945e594416e2f4a",
            "6d4a259e2d184c6f801a54aded68b70a",
            "ee40f3e19e1546e8b63d85145b4d9186",
            "77a441cd0bdc4b28a8036ffe0d1c78d5",
            "385a75cdff02410189136ad78b00871b",
            "b11487858e55467e8bca6744d597a442",
            "a8e228827b64471a800f4a92d1c0861b",
            "e4167b81f33e4d4b820c809585b052aa",
            "2fee4cb5879f4331ae6702ab46ada16a",
            "a2e15b474e34472ca262fbd9fbd5ebd2",
            "6e5edd77dc7b48d9a8eaf43b5423e8f9",
            "f8a660b94f674b51ac17dd4c11e44c30",
            "67df32f33bb6438692f2f90cd92a1fbb",
            "e7ab71ab26fb42efae5b0f12f9793203",
            "1a6d6058b0124b469b989dd60101b9e0",
            "fd9e3971fda74302a13ecce0916a99c8",
            "0b73d7a171a549a393339fa44d8b0a87",
            "fa59800d8c344eceac34b89a93574de9",
            "469797a178d044e892ceb3e433c13efe",
            "a2fd7934fcef4200b65bcea658cb295c",
            "5a89ad8f06b8471cb6e764f1c7506779",
            "94c0d2949f7147f7993c6bdbbbb19667",
            "2ea505fe25344f58942583fd38fb1c9c",
            "8d419433ba234214b45e42526f7949cb",
            "60cbfb81d7d24e4ebca93fc156df5a03",
            "c6e2865b8334484187f782991d29f615",
            "2f2faea18dd1407d833d62b86b6e54f6",
            "b1d8e7f0efbd4e5d94b70214ecf8d681",
            "5720379e3e4243e596644297d6e139f7",
            "08cd00148f094ba48427983940d1e84e",
            "84d71d99f34a4b709b0bcac384f43b9d",
            "602020b3411e4e119dd9a0d0e0a1e379",
            "5e220fe4399c42f1be65c255e48ab662",
            "d6d783ed2e5049b692447675db30ddb5",
            "dda6a96992574a2695c07ae723bd6065",
            "1fbdb37bc3724917bbc778b69c9257aa",
            "3686818ab6b9462aa78b22d8a102229a",
            "6d6fd4c0a44245ce81c7f29e7a2d6e30",
            "a1b693a5b3834c309d95954271f7c5b2",
            "eb468f11da4242b08651c8c0cd0d15ee",
            "d29e1990b57c4a6cb90bdf852f81e2ef",
            "cadb388b8ab24dbebf2fb7491d3104a7",
            "5d3ac8966f794fcbb8b0586c310c9bec",
            "ae079b43713b46edae3be24f6af5a099",
            "0075b65e1f1e420ca761a7f7f60434a3",
            "80e56bcaf1d64296979c3f68004d469d",
            "e3fcd3f6c8844c93ac3d8dd3d56ffc36",
            "df61bbe88c1c4bcd8e2da7d23d40b540",
            "d934af99285e48bebd60c130d92d99dc",
            "3dac84fed2ab49d8b253d5cf95ac3046",
            "d97a4ef773054a73a9095daa1c91c1be"
          ]
        },
        "execution": {
          "iopub.execute_input": "2025-04-18T16:39:26.867281Z",
          "iopub.status.busy": "2025-04-18T16:39:26.867017Z",
          "iopub.status.idle": "2025-04-18T16:39:28.899143Z",
          "shell.execute_reply": "2025-04-18T16:39:28.898514Z",
          "shell.execute_reply.started": "2025-04-18T16:39:26.867263Z"
        },
        "id": "YBmxoJlrZHVH",
        "outputId": "1b39ba3c-5f86-4e2f-d9fe-4ad936078ccf",
        "trusted": true
      },
      "outputs": [
        {
          "data": {
            "application/vnd.jupyter.widget-view+json": {
              "model_id": "e3fcd3f6c8844c93ac3d8dd3d56ffc36",
              "version_major": 2,
              "version_minor": 0
            },
            "text/plain": [
              "README.md:   0%|          | 0.00/1.88k [00:00<?, ?B/s]"
            ]
          },
          "metadata": {},
          "output_type": "display_data"
        },
        {
          "data": {
            "application/vnd.jupyter.widget-view+json": {
              "model_id": "df61bbe88c1c4bcd8e2da7d23d40b540",
              "version_major": 2,
              "version_minor": 0
            },
            "text/plain": [
              "train.jsonl:   0%|          | 0.00/19.7M [00:00<?, ?B/s]"
            ]
          },
          "metadata": {},
          "output_type": "display_data"
        },
        {
          "data": {
            "application/vnd.jupyter.widget-view+json": {
              "model_id": "d934af99285e48bebd60c130d92d99dc",
              "version_major": 2,
              "version_minor": 0
            },
            "text/plain": [
              "validation.jsonl:   0%|          | 0.00/692k [00:00<?, ?B/s]"
            ]
          },
          "metadata": {},
          "output_type": "display_data"
        },
        {
          "data": {
            "application/vnd.jupyter.widget-view+json": {
              "model_id": "3dac84fed2ab49d8b253d5cf95ac3046",
              "version_major": 2,
              "version_minor": 0
            },
            "text/plain": [
              "Generating train split:   0%|          | 0/69071 [00:00<?, ? examples/s]"
            ]
          },
          "metadata": {},
          "output_type": "display_data"
        },
        {
          "data": {
            "application/vnd.jupyter.widget-view+json": {
              "model_id": "d97a4ef773054a73a9095daa1c91c1be",
              "version_major": 2,
              "version_minor": 0
            },
            "text/plain": [
              "Generating validation split:   0%|          | 0/1712 [00:00<?, ? examples/s]"
            ]
          },
          "metadata": {},
          "output_type": "display_data"
        }
      ],
      "source": [
        "from datasets import load_dataset\n",
        "try:\n",
        "    train_ds = load_dataset(\"grammarly/coedit\", split=\"train\")\n",
        "    val_ds = load_dataset(\"grammarly/coedit\", split=\"validation\")\n",
        "except ValueError as e:\n",
        "    print(f\"Caught ValueError, likely need to specify config. Trying 'default'. Error: {e}\")\n",
        "    train_ds = load_dataset(\"grammarly/coedit\", name=\"default\", split=\"train\")\n",
        "    val_ds = load_dataset(\"grammarly/coedit\", name=\"default\", split=\"validation\")\n"
      ]
    },
    {
      "cell_type": "code",
      "execution_count": null,
      "metadata": {
        "colab": {
          "base_uri": "https://localhost:8080/"
        },
        "execution": {
          "iopub.execute_input": "2025-04-18T16:39:28.901649Z",
          "iopub.status.busy": "2025-04-18T16:39:28.901066Z",
          "iopub.status.idle": "2025-04-18T16:39:28.905381Z",
          "shell.execute_reply": "2025-04-18T16:39:28.904843Z",
          "shell.execute_reply.started": "2025-04-18T16:39:28.901628Z"
        },
        "id": "IntEvyGgZa4x",
        "outputId": "cbfbc09d-54ae-428c-a106-afb6a41bd4fa",
        "trusted": true
      },
      "outputs": [
        {
          "name": "stdout",
          "output_type": "stream",
          "text": [
            "Dataset({\n",
            "    features: ['_id', 'task', 'src', 'tgt'],\n",
            "    num_rows: 69071\n",
            "})\n",
            "Dataset({\n",
            "    features: ['_id', 'task', 'src', 'tgt'],\n",
            "    num_rows: 1712\n",
            "})\n"
          ]
        }
      ],
      "source": [
        "print(train_ds)\n",
        "print(val_ds)"
      ]
    },
    {
      "cell_type": "code",
      "execution_count": null,
      "metadata": {
        "execution": {
          "iopub.execute_input": "2025-04-18T16:39:28.906451Z",
          "iopub.status.busy": "2025-04-18T16:39:28.90617Z",
          "iopub.status.idle": "2025-04-18T16:39:28.920877Z",
          "shell.execute_reply": "2025-04-18T16:39:28.920242Z",
          "shell.execute_reply.started": "2025-04-18T16:39:28.906428Z"
        },
        "id": "7rbqKlcrZ2iM",
        "trusted": true
      },
      "outputs": [],
      "source": [
        "def format_dataset_with_template(example, tokenizer):\n",
        "\n",
        "    src_txt = example[\"src\"]\n",
        "    tgt_txt = example[\"tgt\"]\n",
        "\n",
        "    # 1. Prepare the conversation history in the required format\n",
        "    messages = [\n",
        "        {\"role\": \"user\", \"content\": src_txt},\n",
        "        {\"role\": \"model\", \"content\": tgt_txt},\n",
        "    ]\n",
        "\n",
        "    # 2. Apply the chat template\n",
        "    try:\n",
        "        formatted_text = tokenizer.apply_chat_template(\n",
        "            messages,\n",
        "            tokenize=False,\n",
        "            add_generation_prompt=False\n",
        "        )\n",
        "    except Exception as e:\n",
        "        print(f\"Error applying chat template to example: {example}\")\n",
        "        print(f\"Error: {e}\")\n",
        "        formatted_text = \"\" # Return empty string on error to avoid crashing map\n",
        "\n",
        "        # Apply the logic from remove_special_tokens found in Unsloth code\n",
        "    if formatted_text.startswith(tokenizer.bos_token):\n",
        "        formatted_text = formatted_text[len(tokenizer.bos_token):]\n",
        "\n",
        "    # 3. Return in the desired dictionary format for .map\n",
        "    return {\"text\": formatted_text}\n"
      ]
    },
    {
      "cell_type": "code",
      "execution_count": null,
      "metadata": {
        "colab": {
          "base_uri": "https://localhost:8080/",
          "height": 81,
          "referenced_widgets": [
            "49b4cfb658844ceab1425cb735f967ea",
            "8c677456714043e28f5ddd497c7577ce",
            "245c79d3dd0c412f9a71baeac5920689",
            "db77bbe2e0c84609bc6607e395e7d2fe",
            "841f85a3ddd646459056d4b5650ac551",
            "1ae0ebbafd2e4fe8a22b1cd772552478",
            "3289a790ee5747c29bef3f593697be94",
            "43c8b541820249f481bf117dbb4f9433",
            "918a032967874109b24fddc48377e737",
            "50c49829638d4d1799a3e0f969a49f52",
            "a1c2c03d3d334f05a5c3e934dbb84817",
            "f7f965cce2904da69bd158f2d19ce41d",
            "4269fb6e51e84443a44041251ce21fb7",
            "b0dccf12e266459c99ad6ea0bcfa1545",
            "37e71795ba9549c299e6cec1d2832865",
            "7b2df9789b154c30a0e2be6a802e3aba",
            "00f15a94fbc844fcaaccf8eba86e0f99",
            "d813b8445feb4481a0d95ee6c6c8ae11",
            "cfc546f888084416b9529fb0361c5f7a",
            "b09b87d4d77643feae66fa37680a5283",
            "66d2f80b7a384a2ea2a1ce50df0c7528",
            "ea62b26455b047fca9c293f632abb568",
            "1510f4809d1c464d92e941d5025a993f",
            "46e6db93fa4741288e7022a06bed680a"
          ]
        },
        "execution": {
          "iopub.execute_input": "2025-04-18T16:39:28.92195Z",
          "iopub.status.busy": "2025-04-18T16:39:28.921699Z",
          "iopub.status.idle": "2025-04-18T16:39:41.073747Z",
          "shell.execute_reply": "2025-04-18T16:39:41.073044Z",
          "shell.execute_reply.started": "2025-04-18T16:39:28.921932Z"
        },
        "id": "WrUTIFtReSGJ",
        "outputId": "e1bb27a1-6417-48ed-bdd2-5252713221f2",
        "trusted": true
      },
      "outputs": [
        {
          "data": {
            "application/vnd.jupyter.widget-view+json": {
              "model_id": "1510f4809d1c464d92e941d5025a993f",
              "version_major": 2,
              "version_minor": 0
            },
            "text/plain": [
              "Map:   0%|          | 0/69071 [00:00<?, ? examples/s]"
            ]
          },
          "metadata": {},
          "output_type": "display_data"
        },
        {
          "data": {
            "application/vnd.jupyter.widget-view+json": {
              "model_id": "46e6db93fa4741288e7022a06bed680a",
              "version_major": 2,
              "version_minor": 0
            },
            "text/plain": [
              "Map:   0%|          | 0/1712 [00:00<?, ? examples/s]"
            ]
          },
          "metadata": {},
          "output_type": "display_data"
        }
      ],
      "source": [
        "processed_train_ds = train_ds.map(\n",
        "    lambda example: format_dataset_with_template(example, tokenizer),\n",
        "    batched=False,\n",
        "    num_proc=1 # Increase if you confirm it works reliably on your system\n",
        ")\n",
        "processed_val_ds = val_ds.map(\n",
        "    lambda example: format_dataset_with_template(example, tokenizer),\n",
        "    batched=False,\n",
        "    num_proc=1\n",
        ")"
      ]
    },
    {
      "cell_type": "code",
      "execution_count": null,
      "metadata": {
        "colab": {
          "base_uri": "https://localhost:8080/"
        },
        "execution": {
          "iopub.execute_input": "2025-04-18T16:39:41.074866Z",
          "iopub.status.busy": "2025-04-18T16:39:41.074559Z",
          "iopub.status.idle": "2025-04-18T16:39:41.079068Z",
          "shell.execute_reply": "2025-04-18T16:39:41.078323Z",
          "shell.execute_reply.started": "2025-04-18T16:39:41.074809Z"
        },
        "id": "sUgdjEGIsNES",
        "outputId": "5ca68640-dd39-43a1-c0c3-7e78dfea17e4",
        "trusted": true
      },
      "outputs": [
        {
          "name": "stdout",
          "output_type": "stream",
          "text": [
            "Dataset({\n",
            "    features: ['_id', 'task', 'src', 'tgt', 'text'],\n",
            "    num_rows: 69071\n",
            "})\n",
            "Dataset({\n",
            "    features: ['_id', 'task', 'src', 'tgt', 'text'],\n",
            "    num_rows: 1712\n",
            "})\n"
          ]
        }
      ],
      "source": [
        "print(processed_train_ds)\n",
        "print(processed_val_ds)"
      ]
    },
    {
      "cell_type": "code",
      "execution_count": null,
      "metadata": {
        "colab": {
          "base_uri": "https://localhost:8080/"
        },
        "execution": {
          "iopub.execute_input": "2025-04-18T16:39:41.08016Z",
          "iopub.status.busy": "2025-04-18T16:39:41.079887Z",
          "iopub.status.idle": "2025-04-18T16:39:41.217375Z",
          "shell.execute_reply": "2025-04-18T16:39:41.216662Z",
          "shell.execute_reply.started": "2025-04-18T16:39:41.080139Z"
        },
        "id": "0Sm80jvreZYA",
        "outputId": "85af44dd-e9ea-460b-c961-2e1aeb7501fa",
        "trusted": true
      },
      "outputs": [
        {
          "name": "stdout",
          "output_type": "stream",
          "text": [
            "\n",
            "Removing original columns: ['_id', 'task', 'src', 'tgt']\n"
          ]
        }
      ],
      "source": [
        "# removing original columns\n",
        "columns_to_remove = list(train_ds.features)\n",
        "print(f\"\\nRemoving original columns: {columns_to_remove}\")\n",
        "processed_train_ds = processed_train_ds.remove_columns(columns_to_remove)\n",
        "processed_val_ds = processed_val_ds.remove_columns(columns_to_remove)\n"
      ]
    },
    {
      "cell_type": "code",
      "execution_count": null,
      "metadata": {
        "colab": {
          "base_uri": "https://localhost:8080/"
        },
        "execution": {
          "iopub.execute_input": "2025-04-18T16:39:41.218686Z",
          "iopub.status.busy": "2025-04-18T16:39:41.21839Z",
          "iopub.status.idle": "2025-04-18T16:39:41.228654Z",
          "shell.execute_reply": "2025-04-18T16:39:41.227858Z",
          "shell.execute_reply.started": "2025-04-18T16:39:41.218661Z"
        },
        "id": "EIk-ZOUee9yb",
        "outputId": "a1f8e2b6-eb0c-42b3-d84a-7089eca499ad",
        "trusted": true
      },
      "outputs": [
        {
          "name": "stdout",
          "output_type": "stream",
          "text": [
            "\n",
            "Processed train dataset sample (using tokenizer template):\n",
            "Dataset({\n",
            "    features: ['text'],\n",
            "    num_rows: 69071\n",
            "})\n",
            "<start_of_turn>user\n",
            "Remove all grammatical errors from this text: For example, countries with a lot of deserts can terraform their desert to increase their habitable land and using irrigation to provide clean water to the desert.<end_of_turn>\n",
            "<start_of_turn>model\n",
            "For example, countries with a lot of deserts can transform their desert to increase their habitable land and use irrigation to provide clean water to the desert.<end_of_turn>\n",
            "\n",
            "\n",
            "Processed validation dataset sample (using tokenizer template):\n",
            "Dataset({\n",
            "    features: ['text'],\n",
            "    num_rows: 1712\n",
            "})\n",
            "<start_of_turn>user\n",
            "Paraphrase this sentence: Why are you arresting me?<end_of_turn>\n",
            "<start_of_turn>model\n",
            "Why am I being arrested?<end_of_turn>\n",
            "\n"
          ]
        }
      ],
      "source": [
        "print(\"\\nProcessed train dataset sample (using tokenizer template):\")\n",
        "print(processed_train_ds)\n",
        "if len(processed_train_ds) > 0:\n",
        "    print(processed_train_ds[0][\"text\"])\n",
        "else:\n",
        "     print(\"Processed training dataset is empty or first example failed.\")\n",
        "\n",
        "\n",
        "print(\"\\nProcessed validation dataset sample (using tokenizer template):\")\n",
        "print(processed_val_ds)\n",
        "if len(processed_val_ds) > 0:\n",
        "    print(processed_val_ds[0]['text'])\n",
        "else:\n",
        "    print(\"Processed validation dataset is empty or first example failed.\")\n"
      ]
    },
    {
      "cell_type": "markdown",
      "metadata": {
        "id": "idAEIeSQ3xdS"
      },
      "source": [
        "<a name=\"Train\"></a>\n",
        "### Train the model\n",
        "Now let's use Huggingface TRL's `SFTTrainer`! More docs here: [TRL SFT docs](https://huggingface.co/docs/trl/sft_trainer)."
      ]
    },
    {
      "cell_type": "code",
      "execution_count": null,
      "metadata": {
        "colab": {
          "base_uri": "https://localhost:8080/",
          "referenced_widgets": [
            "4da541580dfd4379a1e7d65ca99e471e",
            "a55bd0fa09f642c8822950336af9c50f"
          ]
        },
        "execution": {
          "iopub.execute_input": "2025-04-18T16:41:18.943937Z",
          "iopub.status.busy": "2025-04-18T16:41:18.943575Z",
          "iopub.status.idle": "2025-04-18T16:41:38.802464Z",
          "shell.execute_reply": "2025-04-18T16:41:38.801726Z",
          "shell.execute_reply.started": "2025-04-18T16:41:18.943915Z"
        },
        "id": "95_Nn-89DhsL",
        "outputId": "619a3b91-7691-412d-de27-009fc63ce455",
        "trusted": true
      },
      "outputs": [
        {
          "name": "stdout",
          "output_type": "stream",
          "text": [
            "Unsloth: Switching to float32 training since model cannot work with float16\n"
          ]
        },
        {
          "data": {
            "application/vnd.jupyter.widget-view+json": {
              "model_id": "4da541580dfd4379a1e7d65ca99e471e",
              "version_major": 2,
              "version_minor": 0
            },
            "text/plain": [
              "Unsloth: Tokenizing [\"text\"] (num_proc=4):   0%|          | 0/69071 [00:00<?, ? examples/s]"
            ]
          },
          "metadata": {},
          "output_type": "display_data"
        },
        {
          "name": "stdout",
          "output_type": "stream",
          "text": [
            "Unsloth: Hugging Face's packing is currently buggy - we're disabling it for now!\n"
          ]
        },
        {
          "data": {
            "application/vnd.jupyter.widget-view+json": {
              "model_id": "a55bd0fa09f642c8822950336af9c50f",
              "version_major": 2,
              "version_minor": 0
            },
            "text/plain": [
              "Unsloth: Tokenizing [\"text\"] (num_proc=4):   0%|          | 0/1712 [00:00<?, ? examples/s]"
            ]
          },
          "metadata": {},
          "output_type": "display_data"
        },
        {
          "name": "stdout",
          "output_type": "stream",
          "text": [
            "Unsloth: Hugging Face's packing is currently buggy - we're disabling it for now!\n"
          ]
        }
      ],
      "source": [
        "from trl import SFTTrainer, SFTConfig\n",
        "\n",
        "trainer = SFTTrainer(\n",
        "    model=model,\n",
        "    tokenizer=tokenizer,\n",
        "    train_dataset=processed_train_ds,\n",
        "    eval_dataset=processed_val_ds,\n",
        "    args=SFTConfig(\n",
        "        output_dir=\"./checkpoints256\",\n",
        "        dataset_text_field=\"text\",\n",
        "        max_seq_length=256,\n",
        "        packing=True,\n",
        "        per_device_train_batch_size=64,\n",
        "        gradient_accumulation_steps=2,\n",
        "        warmup_steps=100,\n",
        "        num_train_epochs=1,\n",
        "        learning_rate=3e-5,\n",
        "        logging_steps=25,\n",
        "        optim=\"adamw_8bit\",\n",
        "        weight_decay=0.01,\n",
        "        lr_scheduler_type=\"linear\",\n",
        "        seed=3407,\n",
        "        report_to=\"none\",\n",
        "        eval_strategy=\"steps\",\n",
        "        eval_steps=25,\n",
        "        save_strategy=\"steps\",\n",
        "        save_steps=25,\n",
        "    )\n",
        ")"
      ]
    },
    {
      "cell_type": "code",
      "execution_count": null,
      "metadata": {
        "colab": {
          "base_uri": "https://localhost:8080/"
        },
        "execution": {
          "iopub.execute_input": "2025-04-18T16:41:38.804169Z",
          "iopub.status.busy": "2025-04-18T16:41:38.803914Z",
          "iopub.status.idle": "2025-04-18T16:41:38.808807Z",
          "shell.execute_reply": "2025-04-18T16:41:38.808061Z",
          "shell.execute_reply.started": "2025-04-18T16:41:38.804143Z"
        },
        "id": "DpcWJXqZtwIM",
        "outputId": "a90b951b-edd5-462b-9722-7f432286d89a",
        "trusted": true
      },
      "outputs": [
        {
          "name": "stdout",
          "output_type": "stream",
          "text": [
            "Dataset({\n",
            "    features: ['text', 'input_ids', 'attention_mask'],\n",
            "    num_rows: 69071\n",
            "})\n"
          ]
        }
      ],
      "source": [
        "print(trainer.train_dataset)"
      ]
    },
    {
      "cell_type": "markdown",
      "metadata": {
        "id": "C_sGp5XlG6dq"
      },
      "source": [
        "We also use Unsloth's `train_on_completions` method to only train on the assistant outputs and ignore the loss on the user's inputs. This helps increase accuracy of finetunes!"
      ]
    },
    {
      "cell_type": "code",
      "execution_count": null,
      "metadata": {
        "colab": {
          "referenced_widgets": [
            "4faac142bb8e4c1ca1b2d43066cf45c2",
            "2cede74a9d8249dea535a503f89e83a9"
          ]
        },
        "execution": {
          "iopub.execute_input": "2025-04-18T16:41:38.810667Z",
          "iopub.status.busy": "2025-04-18T16:41:38.809827Z",
          "iopub.status.idle": "2025-04-18T16:41:41.780618Z",
          "shell.execute_reply": "2025-04-18T16:41:41.779874Z",
          "shell.execute_reply.started": "2025-04-18T16:41:38.810647Z"
        },
        "id": "juQiExuBG5Bt",
        "outputId": "47b6cff9-d82f-447e-a90d-39269c63a6fb",
        "trusted": true
      },
      "outputs": [
        {
          "data": {
            "application/vnd.jupyter.widget-view+json": {
              "model_id": "4faac142bb8e4c1ca1b2d43066cf45c2",
              "version_major": 2,
              "version_minor": 0
            },
            "text/plain": [
              "Map (num_proc=4):   0%|          | 0/69071 [00:00<?, ? examples/s]"
            ]
          },
          "metadata": {},
          "output_type": "display_data"
        },
        {
          "data": {
            "application/vnd.jupyter.widget-view+json": {
              "model_id": "2cede74a9d8249dea535a503f89e83a9",
              "version_major": 2,
              "version_minor": 0
            },
            "text/plain": [
              "Map (num_proc=4):   0%|          | 0/1712 [00:00<?, ? examples/s]"
            ]
          },
          "metadata": {},
          "output_type": "display_data"
        }
      ],
      "source": [
        "from unsloth.chat_templates import train_on_responses_only\n",
        "trainer = train_on_responses_only(\n",
        "    trainer,\n",
        "    instruction_part = \"<start_of_turn>user\\n\",\n",
        "    response_part = \"<start_of_turn>model\\n\",\n",
        ")"
      ]
    },
    {
      "cell_type": "code",
      "execution_count": null,
      "metadata": {
        "colab": {
          "base_uri": "https://localhost:8080/"
        },
        "execution": {
          "iopub.execute_input": "2025-04-18T16:41:41.783455Z",
          "iopub.status.busy": "2025-04-18T16:41:41.783157Z",
          "iopub.status.idle": "2025-04-18T16:41:41.788471Z",
          "shell.execute_reply": "2025-04-18T16:41:41.787682Z",
          "shell.execute_reply.started": "2025-04-18T16:41:41.783429Z"
        },
        "id": "dcZ_JiFJtHT7",
        "outputId": "676f7931-eff1-4076-82e2-6b162aada6a7",
        "trusted": true
      },
      "outputs": [
        {
          "name": "stdout",
          "output_type": "stream",
          "text": [
            "Dataset({\n",
            "    features: ['text', 'input_ids', 'attention_mask', 'labels'],\n",
            "    num_rows: 69071\n",
            "})\n"
          ]
        }
      ],
      "source": [
        "print(trainer.train_dataset)"
      ]
    },
    {
      "cell_type": "code",
      "execution_count": null,
      "metadata": {
        "colab": {
          "base_uri": "https://localhost:8080/"
        },
        "execution": {
          "iopub.execute_input": "2025-04-18T16:41:41.789616Z",
          "iopub.status.busy": "2025-04-18T16:41:41.789383Z",
          "iopub.status.idle": "2025-04-18T16:41:42.026511Z",
          "shell.execute_reply": "2025-04-18T16:41:42.025857Z",
          "shell.execute_reply.started": "2025-04-18T16:41:41.789599Z"
        },
        "id": "3VV1bZnZwAO9",
        "outputId": "b1a13a2d-accc-4958-bd34-a9e3c08a9108",
        "trusted": true
      },
      "outputs": [
        {
          "name": "stdout",
          "output_type": "stream",
          "text": [
            "<start_of_turn>user\n",
            "Fix grammar in this sentence: If engineers do not come up with new ideas, they cannot find best solution for the problems.<end_of_turn>\n",
            "<start_of_turn>model\n",
            "If engineers do not come up with new ideas, they cannot find the best solution for different problems.<end_of_turn>\n",
            "\n",
            "\n",
            "[2, 105, 2364, 107, 36819, 40095, 528, 672, 13315, 236787, 1637, 22072, 776, 711, 2229, 872, 607, 861, 6549, 236764, 901, 3914, 1586, 1791, 3465, 573, 506, 4078, 236761, 106, 107, 105, 4368, 107, 2859, 22072, 776, 711, 2229, 872, 607, 861, 6549, 236764, 901, 3914, 1586, 506, 1791, 3465, 573, 1607, 4078, 236761, 106, 107]\n",
            "\n",
            "[1, 1, 1, 1, 1, 1, 1, 1, 1, 1, 1, 1, 1, 1, 1, 1, 1, 1, 1, 1, 1, 1, 1, 1, 1, 1, 1, 1, 1, 1, 1, 1, 1, 1, 1, 1, 1, 1, 1, 1, 1, 1, 1, 1, 1, 1, 1, 1, 1, 1, 1, 1, 1, 1, 1, 1]\n",
            "\n",
            "[-100, -100, -100, -100, -100, -100, -100, -100, -100, -100, -100, -100, -100, -100, -100, -100, -100, -100, -100, -100, -100, -100, -100, -100, -100, -100, -100, -100, -100, -100, -100, -100, -100, -100, 2859, 22072, 776, 711, 2229, 872, 607, 861, 6549, 236764, 901, 3914, 1586, 506, 1791, 3465, 573, 1607, 4078, 236761, 106, 107]\n"
          ]
        }
      ],
      "source": [
        "print(trainer.train_dataset[100][\"text\"])\n",
        "print()\n",
        "print(trainer.train_dataset[100][\"input_ids\"])\n",
        "print()\n",
        "print(trainer.train_dataset[100][\"attention_mask\"])\n",
        "print()\n",
        "print(trainer.train_dataset[100][\"labels\"])"
      ]
    },
    {
      "cell_type": "code",
      "execution_count": null,
      "metadata": {
        "execution": {
          "iopub.execute_input": "2025-04-18T16:41:42.027667Z",
          "iopub.status.busy": "2025-04-18T16:41:42.027341Z",
          "iopub.status.idle": "2025-04-18T16:41:51.601746Z",
          "shell.execute_reply": "2025-04-18T16:41:51.601119Z",
          "shell.execute_reply.started": "2025-04-18T16:41:42.027648Z"
        },
        "id": "YMJFTC7UBGVP",
        "outputId": "8ff740ef-4d17-43f5-b794-1bb904d1cb7b",
        "trusted": true
      },
      "outputs": [
        {
          "name": "stdout",
          "output_type": "stream",
          "text": [
            "Total training tokens in CoEdIT dataset: 4062937\n"
          ]
        }
      ],
      "source": [
        "total_training_tokens = 0\n",
        "for i in range(trainer.train_dataset.num_rows):\n",
        "    total_training_tokens += len(trainer.train_dataset[i][\"input_ids\"])\n",
        "\n",
        "print(\"Total training tokens in CoEdIT dataset:\", total_training_tokens)"
      ]
    },
    {
      "cell_type": "code",
      "execution_count": null,
      "metadata": {
        "execution": {
          "iopub.execute_input": "2025-04-18T16:41:51.602728Z",
          "iopub.status.busy": "2025-04-18T16:41:51.602487Z",
          "iopub.status.idle": "2025-04-18T16:41:53.508906Z",
          "shell.execute_reply": "2025-04-18T16:41:53.50816Z",
          "shell.execute_reply.started": "2025-04-18T16:41:51.60271Z"
        },
        "id": "6aIn9rZdBGVP",
        "outputId": "8f7ccec8-bc69-425c-a0ed-49fe6c4d46aa",
        "trusted": true
      },
      "outputs": [
        {
          "name": "stdout",
          "output_type": "stream",
          "text": [
            "Token lengths stats:\n",
            "Min: 18\n",
            "Max: 256\n",
            "Mean: 58.8226173068292\n",
            "Median: 52.0\n",
            "95th percentile: 108.0\n",
            "99th percentile: 133.0\n"
          ]
        }
      ],
      "source": [
        "import numpy as np\n",
        "\n",
        "lengths = [len(x) for x in trainer.train_dataset['input_ids']]\n",
        "print(f\"Token lengths stats:\")\n",
        "print(f\"Min: {np.min(lengths)}\")\n",
        "print(f\"Max: {np.max(lengths)}\")\n",
        "print(f\"Mean: {np.mean(lengths)}\")\n",
        "print(f\"Median: {np.median(lengths)}\")\n",
        "print(f\"95th percentile: {np.percentile(lengths, 95)}\")\n",
        "print(f\"99th percentile: {np.percentile(lengths, 99)}\")"
      ]
    },
    {
      "cell_type": "markdown",
      "metadata": {
        "id": "Dv1NBUozV78l"
      },
      "source": [
        "Let's verify masking the instruction part is done! Let's print the 100th row again:"
      ]
    },
    {
      "cell_type": "code",
      "execution_count": null,
      "metadata": {
        "colab": {
          "base_uri": "https://localhost:8080/",
          "height": 87
        },
        "execution": {
          "iopub.execute_input": "2025-04-18T16:41:53.509884Z",
          "iopub.status.busy": "2025-04-18T16:41:53.509653Z",
          "iopub.status.idle": "2025-04-18T16:41:53.517021Z",
          "shell.execute_reply": "2025-04-18T16:41:53.51631Z",
          "shell.execute_reply.started": "2025-04-18T16:41:53.509867Z"
        },
        "id": "LtsMVtlkUhja",
        "outputId": "7c44abf8-f509-430c-e82d-ea5e48158367",
        "trusted": true
      },
      "outputs": [
        {
          "data": {
            "text/plain": [
              "'<bos><start_of_turn>user\\nFix grammar in this sentence: If engineers do not come up with new ideas, they cannot find best solution for the problems.<end_of_turn>\\n<start_of_turn>model\\nIf engineers do not come up with new ideas, they cannot find the best solution for different problems.<end_of_turn>\\n'"
            ]
          },
          "execution_count": 23,
          "metadata": {},
          "output_type": "execute_result"
        }
      ],
      "source": [
        "tokenizer.decode(trainer.train_dataset[100][\"input_ids\"])"
      ]
    },
    {
      "cell_type": "markdown",
      "metadata": {
        "id": "4Kyjy__m9KY3"
      },
      "source": [
        "Now let's print the masked out example - you should see only the answer is present:"
      ]
    },
    {
      "cell_type": "code",
      "execution_count": null,
      "metadata": {
        "colab": {
          "base_uri": "https://localhost:8080/",
          "height": 243
        },
        "execution": {
          "iopub.execute_input": "2025-04-18T16:41:53.518665Z",
          "iopub.status.busy": "2025-04-18T16:41:53.517896Z",
          "iopub.status.idle": "2025-04-18T16:41:53.530868Z",
          "shell.execute_reply": "2025-04-18T16:41:53.530097Z",
          "shell.execute_reply.started": "2025-04-18T16:41:53.518639Z"
        },
        "id": "_rD6fl8EUxnG",
        "outputId": "56aefc65-b8e6-4fe2-d213-c147250ae629",
        "trusted": true
      },
      "outputs": [
        {
          "data": {
            "text/plain": [
              "'                                  If engineers do not come up with new ideas, they cannot find the best solution for different problems.<end_of_turn>\\n'"
            ]
          },
          "execution_count": 24,
          "metadata": {},
          "output_type": "execute_result"
        }
      ],
      "source": [
        "tokenizer.decode([tokenizer.pad_token_id if x == -100 else x for x in trainer.train_dataset[100][\"labels\"]]).replace(tokenizer.pad_token, \" \")"
      ]
    },
    {
      "cell_type": "code",
      "execution_count": null,
      "metadata": {
        "cellView": "form",
        "colab": {
          "base_uri": "https://localhost:8080/"
        },
        "execution": {
          "iopub.execute_input": "2025-04-18T16:41:53.533611Z",
          "iopub.status.busy": "2025-04-18T16:41:53.533083Z",
          "iopub.status.idle": "2025-04-18T16:41:53.543081Z",
          "shell.execute_reply": "2025-04-18T16:41:53.542461Z",
          "shell.execute_reply.started": "2025-04-18T16:41:53.533591Z"
        },
        "id": "2ejIt2xSNKKp",
        "outputId": "c429dc1c-3637-4a5e-b091-5a240e296032",
        "trusted": true
      },
      "outputs": [
        {
          "name": "stdout",
          "output_type": "stream",
          "text": [
            "GPU = Tesla T4. Max memory = 14.741 GB.\n",
            "5.57 GB of memory reserved.\n"
          ]
        }
      ],
      "source": [
        "# @title Show current memory stats\n",
        "gpu_stats = torch.cuda.get_device_properties(0)\n",
        "start_gpu_memory = round(torch.cuda.max_memory_reserved() / 1024 / 1024 / 1024, 3)\n",
        "max_memory = round(gpu_stats.total_memory / 1024 / 1024 / 1024, 3)\n",
        "print(f\"GPU = {gpu_stats.name}. Max memory = {max_memory} GB.\")\n",
        "print(f\"{start_gpu_memory} GB of memory reserved.\")"
      ]
    },
    {
      "cell_type": "markdown",
      "metadata": {
        "id": "CNP1Uidk9mrz"
      },
      "source": [
        "Let's train the model! To resume a training run, set `trainer.train(resume_from_checkpoint = True)`"
      ]
    },
    {
      "cell_type": "code",
      "execution_count": null,
      "metadata": {
        "colab": {
          "base_uri": "https://localhost:8080/",
          "height": 1000
        },
        "execution": {
          "iopub.execute_input": "2025-04-18T16:41:53.544167Z",
          "iopub.status.busy": "2025-04-18T16:41:53.543873Z"
        },
        "id": "yqxqAZ7KJ4oL",
        "outputId": "b306c842-6536-4bcf-93a3-47b99db7e60b",
        "trusted": true
      },
      "outputs": [
        {
          "name": "stderr",
          "output_type": "stream",
          "text": [
            "==((====))==  Unsloth - 2x faster free finetuning | Num GPUs used = 1\n",
            "   \\\\   /|    Num examples = 69,071 | Num Epochs = 1 | Total steps = 270\n",
            "O^O/ \\_/ \\    Batch size per device = 128 | Gradient accumulation steps = 2\n",
            "\\        /    Data Parallel GPUs = 1 | Total batch size (128 x 2 x 1) = 256\n",
            " \"-____-\"     Trainable parameters = 29,802,496/4,000,000,000 (0.75% trained)\n",
            "`use_cache=True` is incompatible with gradient checkpointing. Setting `use_cache=False`.\n"
          ]
        },
        {
          "name": "stdout",
          "output_type": "stream",
          "text": [
            "Unsloth: Will smartly offload gradients to save VRAM!\n"
          ]
        },
        {
          "data": {
            "text/html": [
              "\n",
              "    <div>\n",
              "      \n",
              "      <progress value='57' max='270' style='width:300px; height:20px; vertical-align: middle;'></progress>\n",
              "      [ 57/270 1:04:09 < 4:08:27, 0.01 it/s, Epoch 0.21/1]\n",
              "    </div>\n",
              "    <table border=\"1\" class=\"dataframe\">\n",
              "  <thead>\n",
              " <tr style=\"text-align: left;\">\n",
              "      <th>Step</th>\n",
              "      <th>Training Loss</th>\n",
              "      <th>Validation Loss</th>\n",
              "    </tr>\n",
              "  </thead>\n",
              "  <tbody>\n",
              "    <tr>\n",
              "      <td>25</td>\n",
              "      <td>4.939900</td>\n",
              "      <td>2.619917</td>\n",
              "    </tr>\n",
              "    <tr>\n",
              "      <td>50</td>\n",
              "      <td>1.780600</td>\n",
              "      <td>0.722835</td>\n",
              "    </tr>\n",
              "  </tbody>\n",
              "</table><p>"
            ],
            "text/plain": [
              "<IPython.core.display.HTML object>"
            ]
          },
          "metadata": {},
          "output_type": "display_data"
        },
        {
          "name": "stderr",
          "output_type": "stream",
          "text": [
            "Unsloth: Not an error, but Gemma3ForConditionalGeneration does not accept `num_items_in_batch`.\n",
            "Using gradient accumulation will be very slightly less accurate.\n",
            "Read more on gradient accumulation issues here: https://unsloth.ai/blog/gradient\n"
          ]
        }
      ],
      "source": [
        "trainer_stats = trainer.train()"
      ]
    },
    {
      "cell_type": "code",
      "execution_count": null,
      "metadata": {
        "execution": {
          "iopub.status.busy": "2025-04-18T16:15:25.779869Z",
          "iopub.status.idle": "2025-04-18T16:15:25.780097Z",
          "shell.execute_reply": "2025-04-18T16:15:25.78Z",
          "shell.execute_reply.started": "2025-04-18T16:15:25.779991Z"
        },
        "id": "qY-dEhvEBGVQ",
        "trusted": true
      },
      "outputs": [],
      "source": [
        "cwd = os.getcwd()\n",
        "ls = os.listdir('./checkpoints')\n",
        "print(cwd, ls)"
      ]
    },
    {
      "cell_type": "code",
      "execution_count": null,
      "metadata": {
        "id": "7QfWoV9fBGVQ",
        "trusted": true
      },
      "outputs": [],
      "source": [
        "model = AutoModelForCausalLM.from_pretrained(\"./results-seq256\", device_map=\"auto\")\n",
        "tokenizer = AutoTokenizer.from_pretrained(\"./results-seq256\")"
      ]
    },
    {
      "cell_type": "code",
      "execution_count": null,
      "metadata": {
        "cellView": "form",
        "execution": {
          "iopub.status.busy": "2025-04-16T08:04:11.387263Z",
          "iopub.status.idle": "2025-04-16T08:04:11.387534Z",
          "shell.execute_reply": "2025-04-16T08:04:11.387421Z",
          "shell.execute_reply.started": "2025-04-16T08:04:11.387408Z"
        },
        "id": "pCqnaKmlO1U9",
        "trusted": true
      },
      "outputs": [],
      "source": [
        "# @title Show final memory and time stats\n",
        "used_memory = round(torch.cuda.max_memory_reserved() / 1024 / 1024 / 1024, 3)\n",
        "used_memory_for_lora = round(used_memory - start_gpu_memory, 3)\n",
        "used_percentage = round(used_memory / max_memory * 100, 3)\n",
        "lora_percentage = round(used_memory_for_lora / max_memory * 100, 3)\n",
        "print(f\"{trainer_stats.metrics['train_runtime']} seconds used for training.\")\n",
        "print(\n",
        "    f\"{round(trainer_stats.metrics['train_runtime']/60, 2)} minutes used for training.\"\n",
        ")\n",
        "print(f\"Peak reserved memory = {used_memory} GB.\")\n",
        "print(f\"Peak reserved memory for training = {used_memory_for_lora} GB.\")\n",
        "print(f\"Peak reserved memory % of max memory = {used_percentage} %.\")\n",
        "print(f\"Peak reserved memory for training % of max memory = {lora_percentage} %.\")"
      ]
    },
    {
      "cell_type": "markdown",
      "metadata": {
        "id": "ekOmTR1hSNcr"
      },
      "source": [
        "<a name=\"Inference\"></a>\n",
        "### Inference\n",
        "Let's run the model via Unsloth native inference! According to the `Gemma-3` team, the recommended settings for inference are `temperature = 1.0, top_p = 0.95, top_k = 64`"
      ]
    },
    {
      "cell_type": "markdown",
      "metadata": {
        "id": "CrSvZObor0lY"
      },
      "source": [
        " You can also use a `TextStreamer` for continuous inference - so you can see the generation token by token, instead of waiting the whole time!"
      ]
    },
    {
      "cell_type": "code",
      "execution_count": null,
      "metadata": {
        "execution": {
          "iopub.status.busy": "2025-04-16T08:04:11.388647Z",
          "iopub.status.idle": "2025-04-16T08:04:11.388873Z",
          "shell.execute_reply": "2025-04-16T08:04:11.388782Z",
          "shell.execute_reply.started": "2025-04-16T08:04:11.388772Z"
        },
        "id": "e2pEuRb1r2Vg",
        "trusted": true
      },
      "outputs": [],
      "source": [
        "messages = [{\n",
        "    \"role\": \"user\",\n",
        "    \"content\": [{\"type\" : \"text\", \"text\" : \"Fix grammar in this sentence: hello there the angle from my nightmare the shadow in teh background of the morgue\",}]\n",
        "}]\n",
        "text = tokenizer.apply_chat_template(\n",
        "    messages,\n",
        "    add_generation_prompt = True, # Must add for generation\n",
        ")\n",
        "\n",
        "from transformers import TextStreamer\n",
        "_ = model.generate(\n",
        "    **tokenizer([text], return_tensors = \"pt\").to(\"cuda\"),\n",
        "    max_new_tokens = 64, # Increase for longer outputs!\n",
        "    # Recommended Gemma-3 settings!\n",
        "    temperature = 0.2, top_p = 0.9,\n",
        "    streamer = TextStreamer(tokenizer, skip_prompt = True),\n",
        ")"
      ]
    },
    {
      "cell_type": "code",
      "execution_count": null,
      "metadata": {
        "execution": {
          "iopub.status.busy": "2025-04-16T08:04:11.390058Z",
          "iopub.status.idle": "2025-04-16T08:04:11.390292Z",
          "shell.execute_reply": "2025-04-16T08:04:11.390195Z",
          "shell.execute_reply.started": "2025-04-16T08:04:11.390185Z"
        },
        "id": "9BwvBp9oBGVT",
        "trusted": true
      },
      "outputs": [],
      "source": [
        "from unsloth.chat_templates import get_chat_template\n",
        "tokenizer = get_chat_template(\n",
        "    tokenizer,\n",
        "    chat_template = \"gemma-3\",\n",
        ")\n",
        "messages = [{\n",
        "    \"role\": \"user\",\n",
        "    \"content\": [{\n",
        "        \"type\" : \"text\",\n",
        "        \"text\" : \"Fix grammar errors in this sentence: hello there the angle from my nightmare the shadow in teh background of the morgue\",\n",
        "    }]\n",
        "}]\n",
        "text = tokenizer.apply_chat_template(\n",
        "    messages,\n",
        "    add_generation_prompt = True, # Must add for generation\n",
        ")\n",
        "outputs = model.generate(\n",
        "    **tokenizer([text], return_tensors = \"pt\").to(\"cuda\"),\n",
        "    max_new_tokens = 64, # Increase for longer outputs!\n",
        "    # Recommended Gemma-3 settings!\n",
        "    temperature = 0.3,\n",
        ")\n",
        "tokenizer.batch_decode(outputs)"
      ]
    },
    {
      "cell_type": "code",
      "execution_count": null,
      "metadata": {
        "execution": {
          "iopub.status.busy": "2025-04-16T08:04:11.391176Z",
          "iopub.status.idle": "2025-04-16T08:04:11.391383Z",
          "shell.execute_reply": "2025-04-16T08:04:11.391291Z",
          "shell.execute_reply.started": "2025-04-16T08:04:11.391282Z"
        },
        "id": "4Zlsix9IBGVT",
        "trusted": true
      },
      "outputs": [],
      "source": [
        "\n",
        "if True:\n",
        "    hf_repo_name = \"muzzz/nomodit-4b-merged\"\n",
        "    # token w/ write access\n",
        "    hf_token = \"\"\n",
        "\n",
        "    print(f\"Attempting to push merged model to: {hf_repo_name}\")\n",
        "    try:\n",
        "        model.push_to_hub_merged(\n",
        "            hf_repo_name, tokenizer,\n",
        "            token = hf_token,\n",
        "            commit_message = \"Upload fine-tuned Gemma-3 4B (merged float16)\"\n",
        "        )\n",
        "        print(f\"Successfully pushed merged model to {hf_repo_name}\")\n",
        "    except Exception as e:\n",
        "        print(f\"Error pushing merged model to Hugging Face Hub: {e}\")\n",
        "        print(\"Please ensure you have the correct repo name, write token, and network connectivity.\")\n"
      ]
    }
  ],
  "metadata": {
    "accelerator": "GPU",
    "colab": {
      "gpuType": "T4",
      "provenance": []
    },
    "kaggle": {
      "accelerator": "nvidiaTeslaT4",
      "dataSources": [],
      "dockerImageVersionId": 31011,
      "isGpuEnabled": true,
      "isInternetEnabled": true,
      "language": "python",
      "sourceType": "notebook"
    },
    "kernelspec": {
      "display_name": "Python 3",
      "language": "python",
      "name": "python3"
    },
    "language_info": {
      "codemirror_mode": {
        "name": "ipython",
        "version": 3
      },
      "file_extension": ".py",
      "mimetype": "text/x-python",
      "name": "python",
      "nbconvert_exporter": "python",
      "pygments_lexer": "ipython3",
      "version": "3.11.11"
    },
    "widgets": {
      "application/vnd.jupyter.widget-state+json": {
        "0075b65e1f1e420ca761a7f7f60434a3": {
          "model_module": "@jupyter-widgets/base",
          "model_module_version": "1.2.0",
          "model_name": "LayoutModel",
          "state": {
            "_model_module": "@jupyter-widgets/base",
            "_model_module_version": "1.2.0",
            "_model_name": "LayoutModel",
            "_view_count": null,
            "_view_module": "@jupyter-widgets/base",
            "_view_module_version": "1.2.0",
            "_view_name": "LayoutView",
            "align_content": null,
            "align_items": null,
            "align_self": null,
            "border": null,
            "bottom": null,
            "display": null,
            "flex": null,
            "flex_flow": null,
            "grid_area": null,
            "grid_auto_columns": null,
            "grid_auto_flow": null,
            "grid_auto_rows": null,
            "grid_column": null,
            "grid_gap": null,
            "grid_row": null,
            "grid_template_areas": null,
            "grid_template_columns": null,
            "grid_template_rows": null,
            "height": null,
            "justify_content": null,
            "justify_items": null,
            "left": null,
            "margin": null,
            "max_height": null,
            "max_width": null,
            "min_height": null,
            "min_width": null,
            "object_fit": null,
            "object_position": null,
            "order": null,
            "overflow": null,
            "overflow_x": null,
            "overflow_y": null,
            "padding": null,
            "right": null,
            "top": null,
            "visibility": null,
            "width": null
          }
        },
        "00f15a94fbc844fcaaccf8eba86e0f99": {
          "model_module": "@jupyter-widgets/base",
          "model_module_version": "1.2.0",
          "model_name": "LayoutModel",
          "state": {
            "_model_module": "@jupyter-widgets/base",
            "_model_module_version": "1.2.0",
            "_model_name": "LayoutModel",
            "_view_count": null,
            "_view_module": "@jupyter-widgets/base",
            "_view_module_version": "1.2.0",
            "_view_name": "LayoutView",
            "align_content": null,
            "align_items": null,
            "align_self": null,
            "border": null,
            "bottom": null,
            "display": null,
            "flex": null,
            "flex_flow": null,
            "grid_area": null,
            "grid_auto_columns": null,
            "grid_auto_flow": null,
            "grid_auto_rows": null,
            "grid_column": null,
            "grid_gap": null,
            "grid_row": null,
            "grid_template_areas": null,
            "grid_template_columns": null,
            "grid_template_rows": null,
            "height": null,
            "justify_content": null,
            "justify_items": null,
            "left": null,
            "margin": null,
            "max_height": null,
            "max_width": null,
            "min_height": null,
            "min_width": null,
            "object_fit": null,
            "object_position": null,
            "order": null,
            "overflow": null,
            "overflow_x": null,
            "overflow_y": null,
            "padding": null,
            "right": null,
            "top": null,
            "visibility": null,
            "width": null
          }
        },
        "08cd00148f094ba48427983940d1e84e": {
          "model_module": "@jupyter-widgets/base",
          "model_module_version": "1.2.0",
          "model_name": "LayoutModel",
          "state": {
            "_model_module": "@jupyter-widgets/base",
            "_model_module_version": "1.2.0",
            "_model_name": "LayoutModel",
            "_view_count": null,
            "_view_module": "@jupyter-widgets/base",
            "_view_module_version": "1.2.0",
            "_view_name": "LayoutView",
            "align_content": null,
            "align_items": null,
            "align_self": null,
            "border": null,
            "bottom": null,
            "display": null,
            "flex": null,
            "flex_flow": null,
            "grid_area": null,
            "grid_auto_columns": null,
            "grid_auto_flow": null,
            "grid_auto_rows": null,
            "grid_column": null,
            "grid_gap": null,
            "grid_row": null,
            "grid_template_areas": null,
            "grid_template_columns": null,
            "grid_template_rows": null,
            "height": null,
            "justify_content": null,
            "justify_items": null,
            "left": null,
            "margin": null,
            "max_height": null,
            "max_width": null,
            "min_height": null,
            "min_width": null,
            "object_fit": null,
            "object_position": null,
            "order": null,
            "overflow": null,
            "overflow_x": null,
            "overflow_y": null,
            "padding": null,
            "right": null,
            "top": null,
            "visibility": null,
            "width": null
          }
        },
        "0b73d7a171a549a393339fa44d8b0a87": {
          "model_module": "@jupyter-widgets/controls",
          "model_module_version": "1.5.0",
          "model_name": "HTMLModel",
          "state": {
            "_dom_classes": [],
            "_model_module": "@jupyter-widgets/controls",
            "_model_module_version": "1.5.0",
            "_model_name": "HTMLModel",
            "_view_count": null,
            "_view_module": "@jupyter-widgets/controls",
            "_view_module_version": "1.5.0",
            "_view_name": "HTMLView",
            "description": "",
            "description_tooltip": null,
            "layout": "IPY_MODEL_2ea505fe25344f58942583fd38fb1c9c",
            "placeholder": "​",
            "style": "IPY_MODEL_8d419433ba234214b45e42526f7949cb",
            "value": " 692k/692k [00:00&lt;00:00, 3.21MB/s]"
          }
        },
        "1a6d6058b0124b469b989dd60101b9e0": {
          "model_module": "@jupyter-widgets/controls",
          "model_module_version": "1.5.0",
          "model_name": "HTMLModel",
          "state": {
            "_dom_classes": [],
            "_model_module": "@jupyter-widgets/controls",
            "_model_module_version": "1.5.0",
            "_model_name": "HTMLModel",
            "_view_count": null,
            "_view_module": "@jupyter-widgets/controls",
            "_view_module_version": "1.5.0",
            "_view_name": "HTMLView",
            "description": "",
            "description_tooltip": null,
            "layout": "IPY_MODEL_469797a178d044e892ceb3e433c13efe",
            "placeholder": "​",
            "style": "IPY_MODEL_a2fd7934fcef4200b65bcea658cb295c",
            "value": "validation.jsonl: 100%"
          }
        },
        "1ae0ebbafd2e4fe8a22b1cd772552478": {
          "model_module": "@jupyter-widgets/base",
          "model_module_version": "1.2.0",
          "model_name": "LayoutModel",
          "state": {
            "_model_module": "@jupyter-widgets/base",
            "_model_module_version": "1.2.0",
            "_model_name": "LayoutModel",
            "_view_count": null,
            "_view_module": "@jupyter-widgets/base",
            "_view_module_version": "1.2.0",
            "_view_name": "LayoutView",
            "align_content": null,
            "align_items": null,
            "align_self": null,
            "border": null,
            "bottom": null,
            "display": null,
            "flex": null,
            "flex_flow": null,
            "grid_area": null,
            "grid_auto_columns": null,
            "grid_auto_flow": null,
            "grid_auto_rows": null,
            "grid_column": null,
            "grid_gap": null,
            "grid_row": null,
            "grid_template_areas": null,
            "grid_template_columns": null,
            "grid_template_rows": null,
            "height": null,
            "justify_content": null,
            "justify_items": null,
            "left": null,
            "margin": null,
            "max_height": null,
            "max_width": null,
            "min_height": null,
            "min_width": null,
            "object_fit": null,
            "object_position": null,
            "order": null,
            "overflow": null,
            "overflow_x": null,
            "overflow_y": null,
            "padding": null,
            "right": null,
            "top": null,
            "visibility": null,
            "width": null
          }
        },
        "1fbdb37bc3724917bbc778b69c9257aa": {
          "model_module": "@jupyter-widgets/controls",
          "model_module_version": "1.5.0",
          "model_name": "HBoxModel",
          "state": {
            "_dom_classes": [],
            "_model_module": "@jupyter-widgets/controls",
            "_model_module_version": "1.5.0",
            "_model_name": "HBoxModel",
            "_view_count": null,
            "_view_module": "@jupyter-widgets/controls",
            "_view_module_version": "1.5.0",
            "_view_name": "HBoxView",
            "box_style": "",
            "children": [
              "IPY_MODEL_3686818ab6b9462aa78b22d8a102229a",
              "IPY_MODEL_6d6fd4c0a44245ce81c7f29e7a2d6e30",
              "IPY_MODEL_a1b693a5b3834c309d95954271f7c5b2"
            ],
            "layout": "IPY_MODEL_eb468f11da4242b08651c8c0cd0d15ee"
          }
        },
        "245c79d3dd0c412f9a71baeac5920689": {
          "model_module": "@jupyter-widgets/controls",
          "model_module_version": "1.5.0",
          "model_name": "FloatProgressModel",
          "state": {
            "_dom_classes": [],
            "_model_module": "@jupyter-widgets/controls",
            "_model_module_version": "1.5.0",
            "_model_name": "FloatProgressModel",
            "_view_count": null,
            "_view_module": "@jupyter-widgets/controls",
            "_view_module_version": "1.5.0",
            "_view_name": "ProgressView",
            "bar_style": "success",
            "description": "",
            "description_tooltip": null,
            "layout": "IPY_MODEL_43c8b541820249f481bf117dbb4f9433",
            "max": 69071,
            "min": 0,
            "orientation": "horizontal",
            "style": "IPY_MODEL_918a032967874109b24fddc48377e737",
            "value": 69071
          }
        },
        "2ea505fe25344f58942583fd38fb1c9c": {
          "model_module": "@jupyter-widgets/base",
          "model_module_version": "1.2.0",
          "model_name": "LayoutModel",
          "state": {
            "_model_module": "@jupyter-widgets/base",
            "_model_module_version": "1.2.0",
            "_model_name": "LayoutModel",
            "_view_count": null,
            "_view_module": "@jupyter-widgets/base",
            "_view_module_version": "1.2.0",
            "_view_name": "LayoutView",
            "align_content": null,
            "align_items": null,
            "align_self": null,
            "border": null,
            "bottom": null,
            "display": null,
            "flex": null,
            "flex_flow": null,
            "grid_area": null,
            "grid_auto_columns": null,
            "grid_auto_flow": null,
            "grid_auto_rows": null,
            "grid_column": null,
            "grid_gap": null,
            "grid_row": null,
            "grid_template_areas": null,
            "grid_template_columns": null,
            "grid_template_rows": null,
            "height": null,
            "justify_content": null,
            "justify_items": null,
            "left": null,
            "margin": null,
            "max_height": null,
            "max_width": null,
            "min_height": null,
            "min_width": null,
            "object_fit": null,
            "object_position": null,
            "order": null,
            "overflow": null,
            "overflow_x": null,
            "overflow_y": null,
            "padding": null,
            "right": null,
            "top": null,
            "visibility": null,
            "width": null
          }
        },
        "2f2faea18dd1407d833d62b86b6e54f6": {
          "model_module": "@jupyter-widgets/controls",
          "model_module_version": "1.5.0",
          "model_name": "FloatProgressModel",
          "state": {
            "_dom_classes": [],
            "_model_module": "@jupyter-widgets/controls",
            "_model_module_version": "1.5.0",
            "_model_name": "FloatProgressModel",
            "_view_count": null,
            "_view_module": "@jupyter-widgets/controls",
            "_view_module_version": "1.5.0",
            "_view_name": "ProgressView",
            "bar_style": "success",
            "description": "",
            "description_tooltip": null,
            "layout": "IPY_MODEL_602020b3411e4e119dd9a0d0e0a1e379",
            "max": 69071,
            "min": 0,
            "orientation": "horizontal",
            "style": "IPY_MODEL_5e220fe4399c42f1be65c255e48ab662",
            "value": 69071
          }
        },
        "2fee4cb5879f4331ae6702ab46ada16a": {
          "model_module": "@jupyter-widgets/controls",
          "model_module_version": "1.5.0",
          "model_name": "DescriptionStyleModel",
          "state": {
            "_model_module": "@jupyter-widgets/controls",
            "_model_module_version": "1.5.0",
            "_model_name": "DescriptionStyleModel",
            "_view_count": null,
            "_view_module": "@jupyter-widgets/base",
            "_view_module_version": "1.2.0",
            "_view_name": "StyleView",
            "description_width": ""
          }
        },
        "3289a790ee5747c29bef3f593697be94": {
          "model_module": "@jupyter-widgets/controls",
          "model_module_version": "1.5.0",
          "model_name": "DescriptionStyleModel",
          "state": {
            "_model_module": "@jupyter-widgets/controls",
            "_model_module_version": "1.5.0",
            "_model_name": "DescriptionStyleModel",
            "_view_count": null,
            "_view_module": "@jupyter-widgets/base",
            "_view_module_version": "1.2.0",
            "_view_name": "StyleView",
            "description_width": ""
          }
        },
        "3686818ab6b9462aa78b22d8a102229a": {
          "model_module": "@jupyter-widgets/controls",
          "model_module_version": "1.5.0",
          "model_name": "HTMLModel",
          "state": {
            "_dom_classes": [],
            "_model_module": "@jupyter-widgets/controls",
            "_model_module_version": "1.5.0",
            "_model_name": "HTMLModel",
            "_view_count": null,
            "_view_module": "@jupyter-widgets/controls",
            "_view_module_version": "1.5.0",
            "_view_name": "HTMLView",
            "description": "",
            "description_tooltip": null,
            "layout": "IPY_MODEL_d29e1990b57c4a6cb90bdf852f81e2ef",
            "placeholder": "​",
            "style": "IPY_MODEL_cadb388b8ab24dbebf2fb7491d3104a7",
            "value": "Generating validation split: 100%"
          }
        },
        "37e71795ba9549c299e6cec1d2832865": {
          "model_module": "@jupyter-widgets/controls",
          "model_module_version": "1.5.0",
          "model_name": "HTMLModel",
          "state": {
            "_dom_classes": [],
            "_model_module": "@jupyter-widgets/controls",
            "_model_module_version": "1.5.0",
            "_model_name": "HTMLModel",
            "_view_count": null,
            "_view_module": "@jupyter-widgets/controls",
            "_view_module_version": "1.5.0",
            "_view_name": "HTMLView",
            "description": "",
            "description_tooltip": null,
            "layout": "IPY_MODEL_66d2f80b7a384a2ea2a1ce50df0c7528",
            "placeholder": "​",
            "style": "IPY_MODEL_ea62b26455b047fca9c293f632abb568",
            "value": " 1712/1712 [00:00&lt;00:00, 5143.04 examples/s]"
          }
        },
        "385a75cdff02410189136ad78b00871b": {
          "model_module": "@jupyter-widgets/controls",
          "model_module_version": "1.5.0",
          "model_name": "FloatProgressModel",
          "state": {
            "_dom_classes": [],
            "_model_module": "@jupyter-widgets/controls",
            "_model_module_version": "1.5.0",
            "_model_name": "FloatProgressModel",
            "_view_count": null,
            "_view_module": "@jupyter-widgets/controls",
            "_view_module_version": "1.5.0",
            "_view_name": "ProgressView",
            "bar_style": "success",
            "description": "",
            "description_tooltip": null,
            "layout": "IPY_MODEL_a2e15b474e34472ca262fbd9fbd5ebd2",
            "max": 19695735,
            "min": 0,
            "orientation": "horizontal",
            "style": "IPY_MODEL_6e5edd77dc7b48d9a8eaf43b5423e8f9",
            "value": 19695735
          }
        },
        "4269fb6e51e84443a44041251ce21fb7": {
          "model_module": "@jupyter-widgets/controls",
          "model_module_version": "1.5.0",
          "model_name": "HTMLModel",
          "state": {
            "_dom_classes": [],
            "_model_module": "@jupyter-widgets/controls",
            "_model_module_version": "1.5.0",
            "_model_name": "HTMLModel",
            "_view_count": null,
            "_view_module": "@jupyter-widgets/controls",
            "_view_module_version": "1.5.0",
            "_view_name": "HTMLView",
            "description": "",
            "description_tooltip": null,
            "layout": "IPY_MODEL_00f15a94fbc844fcaaccf8eba86e0f99",
            "placeholder": "​",
            "style": "IPY_MODEL_d813b8445feb4481a0d95ee6c6c8ae11",
            "value": "Map: 100%"
          }
        },
        "43c8b541820249f481bf117dbb4f9433": {
          "model_module": "@jupyter-widgets/base",
          "model_module_version": "1.2.0",
          "model_name": "LayoutModel",
          "state": {
            "_model_module": "@jupyter-widgets/base",
            "_model_module_version": "1.2.0",
            "_model_name": "LayoutModel",
            "_view_count": null,
            "_view_module": "@jupyter-widgets/base",
            "_view_module_version": "1.2.0",
            "_view_name": "LayoutView",
            "align_content": null,
            "align_items": null,
            "align_self": null,
            "border": null,
            "bottom": null,
            "display": null,
            "flex": null,
            "flex_flow": null,
            "grid_area": null,
            "grid_auto_columns": null,
            "grid_auto_flow": null,
            "grid_auto_rows": null,
            "grid_column": null,
            "grid_gap": null,
            "grid_row": null,
            "grid_template_areas": null,
            "grid_template_columns": null,
            "grid_template_rows": null,
            "height": null,
            "justify_content": null,
            "justify_items": null,
            "left": null,
            "margin": null,
            "max_height": null,
            "max_width": null,
            "min_height": null,
            "min_width": null,
            "object_fit": null,
            "object_position": null,
            "order": null,
            "overflow": null,
            "overflow_x": null,
            "overflow_y": null,
            "padding": null,
            "right": null,
            "top": null,
            "visibility": null,
            "width": null
          }
        },
        "469797a178d044e892ceb3e433c13efe": {
          "model_module": "@jupyter-widgets/base",
          "model_module_version": "1.2.0",
          "model_name": "LayoutModel",
          "state": {
            "_model_module": "@jupyter-widgets/base",
            "_model_module_version": "1.2.0",
            "_model_name": "LayoutModel",
            "_view_count": null,
            "_view_module": "@jupyter-widgets/base",
            "_view_module_version": "1.2.0",
            "_view_name": "LayoutView",
            "align_content": null,
            "align_items": null,
            "align_self": null,
            "border": null,
            "bottom": null,
            "display": null,
            "flex": null,
            "flex_flow": null,
            "grid_area": null,
            "grid_auto_columns": null,
            "grid_auto_flow": null,
            "grid_auto_rows": null,
            "grid_column": null,
            "grid_gap": null,
            "grid_row": null,
            "grid_template_areas": null,
            "grid_template_columns": null,
            "grid_template_rows": null,
            "height": null,
            "justify_content": null,
            "justify_items": null,
            "left": null,
            "margin": null,
            "max_height": null,
            "max_width": null,
            "min_height": null,
            "min_width": null,
            "object_fit": null,
            "object_position": null,
            "order": null,
            "overflow": null,
            "overflow_x": null,
            "overflow_y": null,
            "padding": null,
            "right": null,
            "top": null,
            "visibility": null,
            "width": null
          }
        },
        "49b4cfb658844ceab1425cb735f967ea": {
          "model_module": "@jupyter-widgets/controls",
          "model_module_version": "1.5.0",
          "model_name": "HBoxModel",
          "state": {
            "_dom_classes": [],
            "_model_module": "@jupyter-widgets/controls",
            "_model_module_version": "1.5.0",
            "_model_name": "HBoxModel",
            "_view_count": null,
            "_view_module": "@jupyter-widgets/controls",
            "_view_module_version": "1.5.0",
            "_view_name": "HBoxView",
            "box_style": "",
            "children": [
              "IPY_MODEL_8c677456714043e28f5ddd497c7577ce",
              "IPY_MODEL_245c79d3dd0c412f9a71baeac5920689",
              "IPY_MODEL_db77bbe2e0c84609bc6607e395e7d2fe"
            ],
            "layout": "IPY_MODEL_841f85a3ddd646459056d4b5650ac551"
          }
        },
        "50c49829638d4d1799a3e0f969a49f52": {
          "model_module": "@jupyter-widgets/base",
          "model_module_version": "1.2.0",
          "model_name": "LayoutModel",
          "state": {
            "_model_module": "@jupyter-widgets/base",
            "_model_module_version": "1.2.0",
            "_model_name": "LayoutModel",
            "_view_count": null,
            "_view_module": "@jupyter-widgets/base",
            "_view_module_version": "1.2.0",
            "_view_name": "LayoutView",
            "align_content": null,
            "align_items": null,
            "align_self": null,
            "border": null,
            "bottom": null,
            "display": null,
            "flex": null,
            "flex_flow": null,
            "grid_area": null,
            "grid_auto_columns": null,
            "grid_auto_flow": null,
            "grid_auto_rows": null,
            "grid_column": null,
            "grid_gap": null,
            "grid_row": null,
            "grid_template_areas": null,
            "grid_template_columns": null,
            "grid_template_rows": null,
            "height": null,
            "justify_content": null,
            "justify_items": null,
            "left": null,
            "margin": null,
            "max_height": null,
            "max_width": null,
            "min_height": null,
            "min_width": null,
            "object_fit": null,
            "object_position": null,
            "order": null,
            "overflow": null,
            "overflow_x": null,
            "overflow_y": null,
            "padding": null,
            "right": null,
            "top": null,
            "visibility": null,
            "width": null
          }
        },
        "5720379e3e4243e596644297d6e139f7": {
          "model_module": "@jupyter-widgets/base",
          "model_module_version": "1.2.0",
          "model_name": "LayoutModel",
          "state": {
            "_model_module": "@jupyter-widgets/base",
            "_model_module_version": "1.2.0",
            "_model_name": "LayoutModel",
            "_view_count": null,
            "_view_module": "@jupyter-widgets/base",
            "_view_module_version": "1.2.0",
            "_view_name": "LayoutView",
            "align_content": null,
            "align_items": null,
            "align_self": null,
            "border": null,
            "bottom": null,
            "display": null,
            "flex": null,
            "flex_flow": null,
            "grid_area": null,
            "grid_auto_columns": null,
            "grid_auto_flow": null,
            "grid_auto_rows": null,
            "grid_column": null,
            "grid_gap": null,
            "grid_row": null,
            "grid_template_areas": null,
            "grid_template_columns": null,
            "grid_template_rows": null,
            "height": null,
            "justify_content": null,
            "justify_items": null,
            "left": null,
            "margin": null,
            "max_height": null,
            "max_width": null,
            "min_height": null,
            "min_width": null,
            "object_fit": null,
            "object_position": null,
            "order": null,
            "overflow": null,
            "overflow_x": null,
            "overflow_y": null,
            "padding": null,
            "right": null,
            "top": null,
            "visibility": null,
            "width": null
          }
        },
        "5a89ad8f06b8471cb6e764f1c7506779": {
          "model_module": "@jupyter-widgets/base",
          "model_module_version": "1.2.0",
          "model_name": "LayoutModel",
          "state": {
            "_model_module": "@jupyter-widgets/base",
            "_model_module_version": "1.2.0",
            "_model_name": "LayoutModel",
            "_view_count": null,
            "_view_module": "@jupyter-widgets/base",
            "_view_module_version": "1.2.0",
            "_view_name": "LayoutView",
            "align_content": null,
            "align_items": null,
            "align_self": null,
            "border": null,
            "bottom": null,
            "display": null,
            "flex": null,
            "flex_flow": null,
            "grid_area": null,
            "grid_auto_columns": null,
            "grid_auto_flow": null,
            "grid_auto_rows": null,
            "grid_column": null,
            "grid_gap": null,
            "grid_row": null,
            "grid_template_areas": null,
            "grid_template_columns": null,
            "grid_template_rows": null,
            "height": null,
            "justify_content": null,
            "justify_items": null,
            "left": null,
            "margin": null,
            "max_height": null,
            "max_width": null,
            "min_height": null,
            "min_width": null,
            "object_fit": null,
            "object_position": null,
            "order": null,
            "overflow": null,
            "overflow_x": null,
            "overflow_y": null,
            "padding": null,
            "right": null,
            "top": null,
            "visibility": null,
            "width": null
          }
        },
        "5d3ac8966f794fcbb8b0586c310c9bec": {
          "model_module": "@jupyter-widgets/base",
          "model_module_version": "1.2.0",
          "model_name": "LayoutModel",
          "state": {
            "_model_module": "@jupyter-widgets/base",
            "_model_module_version": "1.2.0",
            "_model_name": "LayoutModel",
            "_view_count": null,
            "_view_module": "@jupyter-widgets/base",
            "_view_module_version": "1.2.0",
            "_view_name": "LayoutView",
            "align_content": null,
            "align_items": null,
            "align_self": null,
            "border": null,
            "bottom": null,
            "display": null,
            "flex": null,
            "flex_flow": null,
            "grid_area": null,
            "grid_auto_columns": null,
            "grid_auto_flow": null,
            "grid_auto_rows": null,
            "grid_column": null,
            "grid_gap": null,
            "grid_row": null,
            "grid_template_areas": null,
            "grid_template_columns": null,
            "grid_template_rows": null,
            "height": null,
            "justify_content": null,
            "justify_items": null,
            "left": null,
            "margin": null,
            "max_height": null,
            "max_width": null,
            "min_height": null,
            "min_width": null,
            "object_fit": null,
            "object_position": null,
            "order": null,
            "overflow": null,
            "overflow_x": null,
            "overflow_y": null,
            "padding": null,
            "right": null,
            "top": null,
            "visibility": null,
            "width": null
          }
        },
        "5e220fe4399c42f1be65c255e48ab662": {
          "model_module": "@jupyter-widgets/controls",
          "model_module_version": "1.5.0",
          "model_name": "ProgressStyleModel",
          "state": {
            "_model_module": "@jupyter-widgets/controls",
            "_model_module_version": "1.5.0",
            "_model_name": "ProgressStyleModel",
            "_view_count": null,
            "_view_module": "@jupyter-widgets/base",
            "_view_module_version": "1.2.0",
            "_view_name": "StyleView",
            "bar_color": null,
            "description_width": ""
          }
        },
        "602020b3411e4e119dd9a0d0e0a1e379": {
          "model_module": "@jupyter-widgets/base",
          "model_module_version": "1.2.0",
          "model_name": "LayoutModel",
          "state": {
            "_model_module": "@jupyter-widgets/base",
            "_model_module_version": "1.2.0",
            "_model_name": "LayoutModel",
            "_view_count": null,
            "_view_module": "@jupyter-widgets/base",
            "_view_module_version": "1.2.0",
            "_view_name": "LayoutView",
            "align_content": null,
            "align_items": null,
            "align_self": null,
            "border": null,
            "bottom": null,
            "display": null,
            "flex": null,
            "flex_flow": null,
            "grid_area": null,
            "grid_auto_columns": null,
            "grid_auto_flow": null,
            "grid_auto_rows": null,
            "grid_column": null,
            "grid_gap": null,
            "grid_row": null,
            "grid_template_areas": null,
            "grid_template_columns": null,
            "grid_template_rows": null,
            "height": null,
            "justify_content": null,
            "justify_items": null,
            "left": null,
            "margin": null,
            "max_height": null,
            "max_width": null,
            "min_height": null,
            "min_width": null,
            "object_fit": null,
            "object_position": null,
            "order": null,
            "overflow": null,
            "overflow_x": null,
            "overflow_y": null,
            "padding": null,
            "right": null,
            "top": null,
            "visibility": null,
            "width": null
          }
        },
        "60cbfb81d7d24e4ebca93fc156df5a03": {
          "model_module": "@jupyter-widgets/controls",
          "model_module_version": "1.5.0",
          "model_name": "HBoxModel",
          "state": {
            "_dom_classes": [],
            "_model_module": "@jupyter-widgets/controls",
            "_model_module_version": "1.5.0",
            "_model_name": "HBoxModel",
            "_view_count": null,
            "_view_module": "@jupyter-widgets/controls",
            "_view_module_version": "1.5.0",
            "_view_name": "HBoxView",
            "box_style": "",
            "children": [
              "IPY_MODEL_c6e2865b8334484187f782991d29f615",
              "IPY_MODEL_2f2faea18dd1407d833d62b86b6e54f6",
              "IPY_MODEL_b1d8e7f0efbd4e5d94b70214ecf8d681"
            ],
            "layout": "IPY_MODEL_5720379e3e4243e596644297d6e139f7"
          }
        },
        "63f0e9d9780a4358b66e86cec4c78929": {
          "model_module": "@jupyter-widgets/controls",
          "model_module_version": "1.5.0",
          "model_name": "HBoxModel",
          "state": {
            "_dom_classes": [],
            "_model_module": "@jupyter-widgets/controls",
            "_model_module_version": "1.5.0",
            "_model_name": "HBoxModel",
            "_view_count": null,
            "_view_module": "@jupyter-widgets/controls",
            "_view_module_version": "1.5.0",
            "_view_name": "HBoxView",
            "box_style": "",
            "children": [
              "IPY_MODEL_ace2e199970c4dc0ab2d84dda5bc0841",
              "IPY_MODEL_c9bb23cc79214ffca35b965ce6342e96",
              "IPY_MODEL_64a8e73f85d14426919b08ebc4253987"
            ],
            "layout": "IPY_MODEL_b75f552e448341dd83572a6e9c9622b1"
          }
        },
        "64a8e73f85d14426919b08ebc4253987": {
          "model_module": "@jupyter-widgets/controls",
          "model_module_version": "1.5.0",
          "model_name": "HTMLModel",
          "state": {
            "_dom_classes": [],
            "_model_module": "@jupyter-widgets/controls",
            "_model_module_version": "1.5.0",
            "_model_name": "HTMLModel",
            "_view_count": null,
            "_view_module": "@jupyter-widgets/controls",
            "_view_module_version": "1.5.0",
            "_view_name": "HTMLView",
            "description": "",
            "description_tooltip": null,
            "layout": "IPY_MODEL_87740d5f0c3f41dab945e594416e2f4a",
            "placeholder": "​",
            "style": "IPY_MODEL_6d4a259e2d184c6f801a54aded68b70a",
            "value": " 1.88k/1.88k [00:00&lt;00:00, 55.5kB/s]"
          }
        },
        "66d2f80b7a384a2ea2a1ce50df0c7528": {
          "model_module": "@jupyter-widgets/base",
          "model_module_version": "1.2.0",
          "model_name": "LayoutModel",
          "state": {
            "_model_module": "@jupyter-widgets/base",
            "_model_module_version": "1.2.0",
            "_model_name": "LayoutModel",
            "_view_count": null,
            "_view_module": "@jupyter-widgets/base",
            "_view_module_version": "1.2.0",
            "_view_name": "LayoutView",
            "align_content": null,
            "align_items": null,
            "align_self": null,
            "border": null,
            "bottom": null,
            "display": null,
            "flex": null,
            "flex_flow": null,
            "grid_area": null,
            "grid_auto_columns": null,
            "grid_auto_flow": null,
            "grid_auto_rows": null,
            "grid_column": null,
            "grid_gap": null,
            "grid_row": null,
            "grid_template_areas": null,
            "grid_template_columns": null,
            "grid_template_rows": null,
            "height": null,
            "justify_content": null,
            "justify_items": null,
            "left": null,
            "margin": null,
            "max_height": null,
            "max_width": null,
            "min_height": null,
            "min_width": null,
            "object_fit": null,
            "object_position": null,
            "order": null,
            "overflow": null,
            "overflow_x": null,
            "overflow_y": null,
            "padding": null,
            "right": null,
            "top": null,
            "visibility": null,
            "width": null
          }
        },
        "67df32f33bb6438692f2f90cd92a1fbb": {
          "model_module": "@jupyter-widgets/controls",
          "model_module_version": "1.5.0",
          "model_name": "DescriptionStyleModel",
          "state": {
            "_model_module": "@jupyter-widgets/controls",
            "_model_module_version": "1.5.0",
            "_model_name": "DescriptionStyleModel",
            "_view_count": null,
            "_view_module": "@jupyter-widgets/base",
            "_view_module_version": "1.2.0",
            "_view_name": "StyleView",
            "description_width": ""
          }
        },
        "6d4a259e2d184c6f801a54aded68b70a": {
          "model_module": "@jupyter-widgets/controls",
          "model_module_version": "1.5.0",
          "model_name": "DescriptionStyleModel",
          "state": {
            "_model_module": "@jupyter-widgets/controls",
            "_model_module_version": "1.5.0",
            "_model_name": "DescriptionStyleModel",
            "_view_count": null,
            "_view_module": "@jupyter-widgets/base",
            "_view_module_version": "1.2.0",
            "_view_name": "StyleView",
            "description_width": ""
          }
        },
        "6d6fd4c0a44245ce81c7f29e7a2d6e30": {
          "model_module": "@jupyter-widgets/controls",
          "model_module_version": "1.5.0",
          "model_name": "FloatProgressModel",
          "state": {
            "_dom_classes": [],
            "_model_module": "@jupyter-widgets/controls",
            "_model_module_version": "1.5.0",
            "_model_name": "FloatProgressModel",
            "_view_count": null,
            "_view_module": "@jupyter-widgets/controls",
            "_view_module_version": "1.5.0",
            "_view_name": "ProgressView",
            "bar_style": "success",
            "description": "",
            "description_tooltip": null,
            "layout": "IPY_MODEL_5d3ac8966f794fcbb8b0586c310c9bec",
            "max": 1712,
            "min": 0,
            "orientation": "horizontal",
            "style": "IPY_MODEL_ae079b43713b46edae3be24f6af5a099",
            "value": 1712
          }
        },
        "6e5edd77dc7b48d9a8eaf43b5423e8f9": {
          "model_module": "@jupyter-widgets/controls",
          "model_module_version": "1.5.0",
          "model_name": "ProgressStyleModel",
          "state": {
            "_model_module": "@jupyter-widgets/controls",
            "_model_module_version": "1.5.0",
            "_model_name": "ProgressStyleModel",
            "_view_count": null,
            "_view_module": "@jupyter-widgets/base",
            "_view_module_version": "1.2.0",
            "_view_name": "StyleView",
            "bar_color": null,
            "description_width": ""
          }
        },
        "77a441cd0bdc4b28a8036ffe0d1c78d5": {
          "model_module": "@jupyter-widgets/controls",
          "model_module_version": "1.5.0",
          "model_name": "HTMLModel",
          "state": {
            "_dom_classes": [],
            "_model_module": "@jupyter-widgets/controls",
            "_model_module_version": "1.5.0",
            "_model_name": "HTMLModel",
            "_view_count": null,
            "_view_module": "@jupyter-widgets/controls",
            "_view_module_version": "1.5.0",
            "_view_name": "HTMLView",
            "description": "",
            "description_tooltip": null,
            "layout": "IPY_MODEL_e4167b81f33e4d4b820c809585b052aa",
            "placeholder": "​",
            "style": "IPY_MODEL_2fee4cb5879f4331ae6702ab46ada16a",
            "value": "train.jsonl: 100%"
          }
        },
        "7b2df9789b154c30a0e2be6a802e3aba": {
          "model_module": "@jupyter-widgets/base",
          "model_module_version": "1.2.0",
          "model_name": "LayoutModel",
          "state": {
            "_model_module": "@jupyter-widgets/base",
            "_model_module_version": "1.2.0",
            "_model_name": "LayoutModel",
            "_view_count": null,
            "_view_module": "@jupyter-widgets/base",
            "_view_module_version": "1.2.0",
            "_view_name": "LayoutView",
            "align_content": null,
            "align_items": null,
            "align_self": null,
            "border": null,
            "bottom": null,
            "display": null,
            "flex": null,
            "flex_flow": null,
            "grid_area": null,
            "grid_auto_columns": null,
            "grid_auto_flow": null,
            "grid_auto_rows": null,
            "grid_column": null,
            "grid_gap": null,
            "grid_row": null,
            "grid_template_areas": null,
            "grid_template_columns": null,
            "grid_template_rows": null,
            "height": null,
            "justify_content": null,
            "justify_items": null,
            "left": null,
            "margin": null,
            "max_height": null,
            "max_width": null,
            "min_height": null,
            "min_width": null,
            "object_fit": null,
            "object_position": null,
            "order": null,
            "overflow": null,
            "overflow_x": null,
            "overflow_y": null,
            "padding": null,
            "right": null,
            "top": null,
            "visibility": null,
            "width": null
          }
        },
        "7dae7417784949f78136a067752f28f2": {
          "model_module": "@jupyter-widgets/controls",
          "model_module_version": "1.5.0",
          "model_name": "DescriptionStyleModel",
          "state": {
            "_model_module": "@jupyter-widgets/controls",
            "_model_module_version": "1.5.0",
            "_model_name": "DescriptionStyleModel",
            "_view_count": null,
            "_view_module": "@jupyter-widgets/base",
            "_view_module_version": "1.2.0",
            "_view_name": "StyleView",
            "description_width": ""
          }
        },
        "80e56bcaf1d64296979c3f68004d469d": {
          "model_module": "@jupyter-widgets/controls",
          "model_module_version": "1.5.0",
          "model_name": "DescriptionStyleModel",
          "state": {
            "_model_module": "@jupyter-widgets/controls",
            "_model_module_version": "1.5.0",
            "_model_name": "DescriptionStyleModel",
            "_view_count": null,
            "_view_module": "@jupyter-widgets/base",
            "_view_module_version": "1.2.0",
            "_view_name": "StyleView",
            "description_width": ""
          }
        },
        "841f85a3ddd646459056d4b5650ac551": {
          "model_module": "@jupyter-widgets/base",
          "model_module_version": "1.2.0",
          "model_name": "LayoutModel",
          "state": {
            "_model_module": "@jupyter-widgets/base",
            "_model_module_version": "1.2.0",
            "_model_name": "LayoutModel",
            "_view_count": null,
            "_view_module": "@jupyter-widgets/base",
            "_view_module_version": "1.2.0",
            "_view_name": "LayoutView",
            "align_content": null,
            "align_items": null,
            "align_self": null,
            "border": null,
            "bottom": null,
            "display": null,
            "flex": null,
            "flex_flow": null,
            "grid_area": null,
            "grid_auto_columns": null,
            "grid_auto_flow": null,
            "grid_auto_rows": null,
            "grid_column": null,
            "grid_gap": null,
            "grid_row": null,
            "grid_template_areas": null,
            "grid_template_columns": null,
            "grid_template_rows": null,
            "height": null,
            "justify_content": null,
            "justify_items": null,
            "left": null,
            "margin": null,
            "max_height": null,
            "max_width": null,
            "min_height": null,
            "min_width": null,
            "object_fit": null,
            "object_position": null,
            "order": null,
            "overflow": null,
            "overflow_x": null,
            "overflow_y": null,
            "padding": null,
            "right": null,
            "top": null,
            "visibility": null,
            "width": null
          }
        },
        "84d71d99f34a4b709b0bcac384f43b9d": {
          "model_module": "@jupyter-widgets/controls",
          "model_module_version": "1.5.0",
          "model_name": "DescriptionStyleModel",
          "state": {
            "_model_module": "@jupyter-widgets/controls",
            "_model_module_version": "1.5.0",
            "_model_name": "DescriptionStyleModel",
            "_view_count": null,
            "_view_module": "@jupyter-widgets/base",
            "_view_module_version": "1.2.0",
            "_view_name": "StyleView",
            "description_width": ""
          }
        },
        "87740d5f0c3f41dab945e594416e2f4a": {
          "model_module": "@jupyter-widgets/base",
          "model_module_version": "1.2.0",
          "model_name": "LayoutModel",
          "state": {
            "_model_module": "@jupyter-widgets/base",
            "_model_module_version": "1.2.0",
            "_model_name": "LayoutModel",
            "_view_count": null,
            "_view_module": "@jupyter-widgets/base",
            "_view_module_version": "1.2.0",
            "_view_name": "LayoutView",
            "align_content": null,
            "align_items": null,
            "align_self": null,
            "border": null,
            "bottom": null,
            "display": null,
            "flex": null,
            "flex_flow": null,
            "grid_area": null,
            "grid_auto_columns": null,
            "grid_auto_flow": null,
            "grid_auto_rows": null,
            "grid_column": null,
            "grid_gap": null,
            "grid_row": null,
            "grid_template_areas": null,
            "grid_template_columns": null,
            "grid_template_rows": null,
            "height": null,
            "justify_content": null,
            "justify_items": null,
            "left": null,
            "margin": null,
            "max_height": null,
            "max_width": null,
            "min_height": null,
            "min_width": null,
            "object_fit": null,
            "object_position": null,
            "order": null,
            "overflow": null,
            "overflow_x": null,
            "overflow_y": null,
            "padding": null,
            "right": null,
            "top": null,
            "visibility": null,
            "width": null
          }
        },
        "8c677456714043e28f5ddd497c7577ce": {
          "model_module": "@jupyter-widgets/controls",
          "model_module_version": "1.5.0",
          "model_name": "HTMLModel",
          "state": {
            "_dom_classes": [],
            "_model_module": "@jupyter-widgets/controls",
            "_model_module_version": "1.5.0",
            "_model_name": "HTMLModel",
            "_view_count": null,
            "_view_module": "@jupyter-widgets/controls",
            "_view_module_version": "1.5.0",
            "_view_name": "HTMLView",
            "description": "",
            "description_tooltip": null,
            "layout": "IPY_MODEL_1ae0ebbafd2e4fe8a22b1cd772552478",
            "placeholder": "​",
            "style": "IPY_MODEL_3289a790ee5747c29bef3f593697be94",
            "value": "Map: 100%"
          }
        },
        "8d419433ba234214b45e42526f7949cb": {
          "model_module": "@jupyter-widgets/controls",
          "model_module_version": "1.5.0",
          "model_name": "DescriptionStyleModel",
          "state": {
            "_model_module": "@jupyter-widgets/controls",
            "_model_module_version": "1.5.0",
            "_model_name": "DescriptionStyleModel",
            "_view_count": null,
            "_view_module": "@jupyter-widgets/base",
            "_view_module_version": "1.2.0",
            "_view_name": "StyleView",
            "description_width": ""
          }
        },
        "918a032967874109b24fddc48377e737": {
          "model_module": "@jupyter-widgets/controls",
          "model_module_version": "1.5.0",
          "model_name": "ProgressStyleModel",
          "state": {
            "_model_module": "@jupyter-widgets/controls",
            "_model_module_version": "1.5.0",
            "_model_name": "ProgressStyleModel",
            "_view_count": null,
            "_view_module": "@jupyter-widgets/base",
            "_view_module_version": "1.2.0",
            "_view_name": "StyleView",
            "bar_color": null,
            "description_width": ""
          }
        },
        "94c0d2949f7147f7993c6bdbbbb19667": {
          "model_module": "@jupyter-widgets/controls",
          "model_module_version": "1.5.0",
          "model_name": "ProgressStyleModel",
          "state": {
            "_model_module": "@jupyter-widgets/controls",
            "_model_module_version": "1.5.0",
            "_model_name": "ProgressStyleModel",
            "_view_count": null,
            "_view_module": "@jupyter-widgets/base",
            "_view_module_version": "1.2.0",
            "_view_name": "StyleView",
            "bar_color": null,
            "description_width": ""
          }
        },
        "a1b693a5b3834c309d95954271f7c5b2": {
          "model_module": "@jupyter-widgets/controls",
          "model_module_version": "1.5.0",
          "model_name": "HTMLModel",
          "state": {
            "_dom_classes": [],
            "_model_module": "@jupyter-widgets/controls",
            "_model_module_version": "1.5.0",
            "_model_name": "HTMLModel",
            "_view_count": null,
            "_view_module": "@jupyter-widgets/controls",
            "_view_module_version": "1.5.0",
            "_view_name": "HTMLView",
            "description": "",
            "description_tooltip": null,
            "layout": "IPY_MODEL_0075b65e1f1e420ca761a7f7f60434a3",
            "placeholder": "​",
            "style": "IPY_MODEL_80e56bcaf1d64296979c3f68004d469d",
            "value": " 1712/1712 [00:00&lt;00:00, 43677.11 examples/s]"
          }
        },
        "a1c2c03d3d334f05a5c3e934dbb84817": {
          "model_module": "@jupyter-widgets/controls",
          "model_module_version": "1.5.0",
          "model_name": "DescriptionStyleModel",
          "state": {
            "_model_module": "@jupyter-widgets/controls",
            "_model_module_version": "1.5.0",
            "_model_name": "DescriptionStyleModel",
            "_view_count": null,
            "_view_module": "@jupyter-widgets/base",
            "_view_module_version": "1.2.0",
            "_view_name": "StyleView",
            "description_width": ""
          }
        },
        "a2e15b474e34472ca262fbd9fbd5ebd2": {
          "model_module": "@jupyter-widgets/base",
          "model_module_version": "1.2.0",
          "model_name": "LayoutModel",
          "state": {
            "_model_module": "@jupyter-widgets/base",
            "_model_module_version": "1.2.0",
            "_model_name": "LayoutModel",
            "_view_count": null,
            "_view_module": "@jupyter-widgets/base",
            "_view_module_version": "1.2.0",
            "_view_name": "LayoutView",
            "align_content": null,
            "align_items": null,
            "align_self": null,
            "border": null,
            "bottom": null,
            "display": null,
            "flex": null,
            "flex_flow": null,
            "grid_area": null,
            "grid_auto_columns": null,
            "grid_auto_flow": null,
            "grid_auto_rows": null,
            "grid_column": null,
            "grid_gap": null,
            "grid_row": null,
            "grid_template_areas": null,
            "grid_template_columns": null,
            "grid_template_rows": null,
            "height": null,
            "justify_content": null,
            "justify_items": null,
            "left": null,
            "margin": null,
            "max_height": null,
            "max_width": null,
            "min_height": null,
            "min_width": null,
            "object_fit": null,
            "object_position": null,
            "order": null,
            "overflow": null,
            "overflow_x": null,
            "overflow_y": null,
            "padding": null,
            "right": null,
            "top": null,
            "visibility": null,
            "width": null
          }
        },
        "a2fd7934fcef4200b65bcea658cb295c": {
          "model_module": "@jupyter-widgets/controls",
          "model_module_version": "1.5.0",
          "model_name": "DescriptionStyleModel",
          "state": {
            "_model_module": "@jupyter-widgets/controls",
            "_model_module_version": "1.5.0",
            "_model_name": "DescriptionStyleModel",
            "_view_count": null,
            "_view_module": "@jupyter-widgets/base",
            "_view_module_version": "1.2.0",
            "_view_name": "StyleView",
            "description_width": ""
          }
        },
        "a8e228827b64471a800f4a92d1c0861b": {
          "model_module": "@jupyter-widgets/base",
          "model_module_version": "1.2.0",
          "model_name": "LayoutModel",
          "state": {
            "_model_module": "@jupyter-widgets/base",
            "_model_module_version": "1.2.0",
            "_model_name": "LayoutModel",
            "_view_count": null,
            "_view_module": "@jupyter-widgets/base",
            "_view_module_version": "1.2.0",
            "_view_name": "LayoutView",
            "align_content": null,
            "align_items": null,
            "align_self": null,
            "border": null,
            "bottom": null,
            "display": null,
            "flex": null,
            "flex_flow": null,
            "grid_area": null,
            "grid_auto_columns": null,
            "grid_auto_flow": null,
            "grid_auto_rows": null,
            "grid_column": null,
            "grid_gap": null,
            "grid_row": null,
            "grid_template_areas": null,
            "grid_template_columns": null,
            "grid_template_rows": null,
            "height": null,
            "justify_content": null,
            "justify_items": null,
            "left": null,
            "margin": null,
            "max_height": null,
            "max_width": null,
            "min_height": null,
            "min_width": null,
            "object_fit": null,
            "object_position": null,
            "order": null,
            "overflow": null,
            "overflow_x": null,
            "overflow_y": null,
            "padding": null,
            "right": null,
            "top": null,
            "visibility": null,
            "width": null
          }
        },
        "ace2e199970c4dc0ab2d84dda5bc0841": {
          "model_module": "@jupyter-widgets/controls",
          "model_module_version": "1.5.0",
          "model_name": "HTMLModel",
          "state": {
            "_dom_classes": [],
            "_model_module": "@jupyter-widgets/controls",
            "_model_module_version": "1.5.0",
            "_model_name": "HTMLModel",
            "_view_count": null,
            "_view_module": "@jupyter-widgets/controls",
            "_view_module_version": "1.5.0",
            "_view_name": "HTMLView",
            "description": "",
            "description_tooltip": null,
            "layout": "IPY_MODEL_dce0de8bb9534325850e7877b12de36c",
            "placeholder": "​",
            "style": "IPY_MODEL_7dae7417784949f78136a067752f28f2",
            "value": "README.md: 100%"
          }
        },
        "ae079b43713b46edae3be24f6af5a099": {
          "model_module": "@jupyter-widgets/controls",
          "model_module_version": "1.5.0",
          "model_name": "ProgressStyleModel",
          "state": {
            "_model_module": "@jupyter-widgets/controls",
            "_model_module_version": "1.5.0",
            "_model_name": "ProgressStyleModel",
            "_view_count": null,
            "_view_module": "@jupyter-widgets/base",
            "_view_module_version": "1.2.0",
            "_view_name": "StyleView",
            "bar_color": null,
            "description_width": ""
          }
        },
        "b09b87d4d77643feae66fa37680a5283": {
          "model_module": "@jupyter-widgets/controls",
          "model_module_version": "1.5.0",
          "model_name": "ProgressStyleModel",
          "state": {
            "_model_module": "@jupyter-widgets/controls",
            "_model_module_version": "1.5.0",
            "_model_name": "ProgressStyleModel",
            "_view_count": null,
            "_view_module": "@jupyter-widgets/base",
            "_view_module_version": "1.2.0",
            "_view_name": "StyleView",
            "bar_color": null,
            "description_width": ""
          }
        },
        "b0dccf12e266459c99ad6ea0bcfa1545": {
          "model_module": "@jupyter-widgets/controls",
          "model_module_version": "1.5.0",
          "model_name": "FloatProgressModel",
          "state": {
            "_dom_classes": [],
            "_model_module": "@jupyter-widgets/controls",
            "_model_module_version": "1.5.0",
            "_model_name": "FloatProgressModel",
            "_view_count": null,
            "_view_module": "@jupyter-widgets/controls",
            "_view_module_version": "1.5.0",
            "_view_name": "ProgressView",
            "bar_style": "success",
            "description": "",
            "description_tooltip": null,
            "layout": "IPY_MODEL_cfc546f888084416b9529fb0361c5f7a",
            "max": 1712,
            "min": 0,
            "orientation": "horizontal",
            "style": "IPY_MODEL_b09b87d4d77643feae66fa37680a5283",
            "value": 1712
          }
        },
        "b11487858e55467e8bca6744d597a442": {
          "model_module": "@jupyter-widgets/controls",
          "model_module_version": "1.5.0",
          "model_name": "HTMLModel",
          "state": {
            "_dom_classes": [],
            "_model_module": "@jupyter-widgets/controls",
            "_model_module_version": "1.5.0",
            "_model_name": "HTMLModel",
            "_view_count": null,
            "_view_module": "@jupyter-widgets/controls",
            "_view_module_version": "1.5.0",
            "_view_name": "HTMLView",
            "description": "",
            "description_tooltip": null,
            "layout": "IPY_MODEL_f8a660b94f674b51ac17dd4c11e44c30",
            "placeholder": "​",
            "style": "IPY_MODEL_67df32f33bb6438692f2f90cd92a1fbb",
            "value": " 19.7M/19.7M [00:00&lt;00:00, 42.7MB/s]"
          }
        },
        "b1d8e7f0efbd4e5d94b70214ecf8d681": {
          "model_module": "@jupyter-widgets/controls",
          "model_module_version": "1.5.0",
          "model_name": "HTMLModel",
          "state": {
            "_dom_classes": [],
            "_model_module": "@jupyter-widgets/controls",
            "_model_module_version": "1.5.0",
            "_model_name": "HTMLModel",
            "_view_count": null,
            "_view_module": "@jupyter-widgets/controls",
            "_view_module_version": "1.5.0",
            "_view_name": "HTMLView",
            "description": "",
            "description_tooltip": null,
            "layout": "IPY_MODEL_d6d783ed2e5049b692447675db30ddb5",
            "placeholder": "​",
            "style": "IPY_MODEL_dda6a96992574a2695c07ae723bd6065",
            "value": " 69071/69071 [00:00&lt;00:00, 122288.23 examples/s]"
          }
        },
        "b75f552e448341dd83572a6e9c9622b1": {
          "model_module": "@jupyter-widgets/base",
          "model_module_version": "1.2.0",
          "model_name": "LayoutModel",
          "state": {
            "_model_module": "@jupyter-widgets/base",
            "_model_module_version": "1.2.0",
            "_model_name": "LayoutModel",
            "_view_count": null,
            "_view_module": "@jupyter-widgets/base",
            "_view_module_version": "1.2.0",
            "_view_name": "LayoutView",
            "align_content": null,
            "align_items": null,
            "align_self": null,
            "border": null,
            "bottom": null,
            "display": null,
            "flex": null,
            "flex_flow": null,
            "grid_area": null,
            "grid_auto_columns": null,
            "grid_auto_flow": null,
            "grid_auto_rows": null,
            "grid_column": null,
            "grid_gap": null,
            "grid_row": null,
            "grid_template_areas": null,
            "grid_template_columns": null,
            "grid_template_rows": null,
            "height": null,
            "justify_content": null,
            "justify_items": null,
            "left": null,
            "margin": null,
            "max_height": null,
            "max_width": null,
            "min_height": null,
            "min_width": null,
            "object_fit": null,
            "object_position": null,
            "order": null,
            "overflow": null,
            "overflow_x": null,
            "overflow_y": null,
            "padding": null,
            "right": null,
            "top": null,
            "visibility": null,
            "width": null
          }
        },
        "c0ba0a899a934379b2b6441dc4e041a9": {
          "model_module": "@jupyter-widgets/controls",
          "model_module_version": "1.5.0",
          "model_name": "ProgressStyleModel",
          "state": {
            "_model_module": "@jupyter-widgets/controls",
            "_model_module_version": "1.5.0",
            "_model_name": "ProgressStyleModel",
            "_view_count": null,
            "_view_module": "@jupyter-widgets/base",
            "_view_module_version": "1.2.0",
            "_view_name": "StyleView",
            "bar_color": null,
            "description_width": ""
          }
        },
        "c6e2865b8334484187f782991d29f615": {
          "model_module": "@jupyter-widgets/controls",
          "model_module_version": "1.5.0",
          "model_name": "HTMLModel",
          "state": {
            "_dom_classes": [],
            "_model_module": "@jupyter-widgets/controls",
            "_model_module_version": "1.5.0",
            "_model_name": "HTMLModel",
            "_view_count": null,
            "_view_module": "@jupyter-widgets/controls",
            "_view_module_version": "1.5.0",
            "_view_name": "HTMLView",
            "description": "",
            "description_tooltip": null,
            "layout": "IPY_MODEL_08cd00148f094ba48427983940d1e84e",
            "placeholder": "​",
            "style": "IPY_MODEL_84d71d99f34a4b709b0bcac384f43b9d",
            "value": "Generating train split: 100%"
          }
        },
        "c9bb23cc79214ffca35b965ce6342e96": {
          "model_module": "@jupyter-widgets/controls",
          "model_module_version": "1.5.0",
          "model_name": "FloatProgressModel",
          "state": {
            "_dom_classes": [],
            "_model_module": "@jupyter-widgets/controls",
            "_model_module_version": "1.5.0",
            "_model_name": "FloatProgressModel",
            "_view_count": null,
            "_view_module": "@jupyter-widgets/controls",
            "_view_module_version": "1.5.0",
            "_view_name": "ProgressView",
            "bar_style": "success",
            "description": "",
            "description_tooltip": null,
            "layout": "IPY_MODEL_d62c5523b89d44abb8c8b0e12fc5d743",
            "max": 1875,
            "min": 0,
            "orientation": "horizontal",
            "style": "IPY_MODEL_c0ba0a899a934379b2b6441dc4e041a9",
            "value": 1875
          }
        },
        "cadb388b8ab24dbebf2fb7491d3104a7": {
          "model_module": "@jupyter-widgets/controls",
          "model_module_version": "1.5.0",
          "model_name": "DescriptionStyleModel",
          "state": {
            "_model_module": "@jupyter-widgets/controls",
            "_model_module_version": "1.5.0",
            "_model_name": "DescriptionStyleModel",
            "_view_count": null,
            "_view_module": "@jupyter-widgets/base",
            "_view_module_version": "1.2.0",
            "_view_name": "StyleView",
            "description_width": ""
          }
        },
        "cfc546f888084416b9529fb0361c5f7a": {
          "model_module": "@jupyter-widgets/base",
          "model_module_version": "1.2.0",
          "model_name": "LayoutModel",
          "state": {
            "_model_module": "@jupyter-widgets/base",
            "_model_module_version": "1.2.0",
            "_model_name": "LayoutModel",
            "_view_count": null,
            "_view_module": "@jupyter-widgets/base",
            "_view_module_version": "1.2.0",
            "_view_name": "LayoutView",
            "align_content": null,
            "align_items": null,
            "align_self": null,
            "border": null,
            "bottom": null,
            "display": null,
            "flex": null,
            "flex_flow": null,
            "grid_area": null,
            "grid_auto_columns": null,
            "grid_auto_flow": null,
            "grid_auto_rows": null,
            "grid_column": null,
            "grid_gap": null,
            "grid_row": null,
            "grid_template_areas": null,
            "grid_template_columns": null,
            "grid_template_rows": null,
            "height": null,
            "justify_content": null,
            "justify_items": null,
            "left": null,
            "margin": null,
            "max_height": null,
            "max_width": null,
            "min_height": null,
            "min_width": null,
            "object_fit": null,
            "object_position": null,
            "order": null,
            "overflow": null,
            "overflow_x": null,
            "overflow_y": null,
            "padding": null,
            "right": null,
            "top": null,
            "visibility": null,
            "width": null
          }
        },
        "d29e1990b57c4a6cb90bdf852f81e2ef": {
          "model_module": "@jupyter-widgets/base",
          "model_module_version": "1.2.0",
          "model_name": "LayoutModel",
          "state": {
            "_model_module": "@jupyter-widgets/base",
            "_model_module_version": "1.2.0",
            "_model_name": "LayoutModel",
            "_view_count": null,
            "_view_module": "@jupyter-widgets/base",
            "_view_module_version": "1.2.0",
            "_view_name": "LayoutView",
            "align_content": null,
            "align_items": null,
            "align_self": null,
            "border": null,
            "bottom": null,
            "display": null,
            "flex": null,
            "flex_flow": null,
            "grid_area": null,
            "grid_auto_columns": null,
            "grid_auto_flow": null,
            "grid_auto_rows": null,
            "grid_column": null,
            "grid_gap": null,
            "grid_row": null,
            "grid_template_areas": null,
            "grid_template_columns": null,
            "grid_template_rows": null,
            "height": null,
            "justify_content": null,
            "justify_items": null,
            "left": null,
            "margin": null,
            "max_height": null,
            "max_width": null,
            "min_height": null,
            "min_width": null,
            "object_fit": null,
            "object_position": null,
            "order": null,
            "overflow": null,
            "overflow_x": null,
            "overflow_y": null,
            "padding": null,
            "right": null,
            "top": null,
            "visibility": null,
            "width": null
          }
        },
        "d62c5523b89d44abb8c8b0e12fc5d743": {
          "model_module": "@jupyter-widgets/base",
          "model_module_version": "1.2.0",
          "model_name": "LayoutModel",
          "state": {
            "_model_module": "@jupyter-widgets/base",
            "_model_module_version": "1.2.0",
            "_model_name": "LayoutModel",
            "_view_count": null,
            "_view_module": "@jupyter-widgets/base",
            "_view_module_version": "1.2.0",
            "_view_name": "LayoutView",
            "align_content": null,
            "align_items": null,
            "align_self": null,
            "border": null,
            "bottom": null,
            "display": null,
            "flex": null,
            "flex_flow": null,
            "grid_area": null,
            "grid_auto_columns": null,
            "grid_auto_flow": null,
            "grid_auto_rows": null,
            "grid_column": null,
            "grid_gap": null,
            "grid_row": null,
            "grid_template_areas": null,
            "grid_template_columns": null,
            "grid_template_rows": null,
            "height": null,
            "justify_content": null,
            "justify_items": null,
            "left": null,
            "margin": null,
            "max_height": null,
            "max_width": null,
            "min_height": null,
            "min_width": null,
            "object_fit": null,
            "object_position": null,
            "order": null,
            "overflow": null,
            "overflow_x": null,
            "overflow_y": null,
            "padding": null,
            "right": null,
            "top": null,
            "visibility": null,
            "width": null
          }
        },
        "d6d783ed2e5049b692447675db30ddb5": {
          "model_module": "@jupyter-widgets/base",
          "model_module_version": "1.2.0",
          "model_name": "LayoutModel",
          "state": {
            "_model_module": "@jupyter-widgets/base",
            "_model_module_version": "1.2.0",
            "_model_name": "LayoutModel",
            "_view_count": null,
            "_view_module": "@jupyter-widgets/base",
            "_view_module_version": "1.2.0",
            "_view_name": "LayoutView",
            "align_content": null,
            "align_items": null,
            "align_self": null,
            "border": null,
            "bottom": null,
            "display": null,
            "flex": null,
            "flex_flow": null,
            "grid_area": null,
            "grid_auto_columns": null,
            "grid_auto_flow": null,
            "grid_auto_rows": null,
            "grid_column": null,
            "grid_gap": null,
            "grid_row": null,
            "grid_template_areas": null,
            "grid_template_columns": null,
            "grid_template_rows": null,
            "height": null,
            "justify_content": null,
            "justify_items": null,
            "left": null,
            "margin": null,
            "max_height": null,
            "max_width": null,
            "min_height": null,
            "min_width": null,
            "object_fit": null,
            "object_position": null,
            "order": null,
            "overflow": null,
            "overflow_x": null,
            "overflow_y": null,
            "padding": null,
            "right": null,
            "top": null,
            "visibility": null,
            "width": null
          }
        },
        "d813b8445feb4481a0d95ee6c6c8ae11": {
          "model_module": "@jupyter-widgets/controls",
          "model_module_version": "1.5.0",
          "model_name": "DescriptionStyleModel",
          "state": {
            "_model_module": "@jupyter-widgets/controls",
            "_model_module_version": "1.5.0",
            "_model_name": "DescriptionStyleModel",
            "_view_count": null,
            "_view_module": "@jupyter-widgets/base",
            "_view_module_version": "1.2.0",
            "_view_name": "StyleView",
            "description_width": ""
          }
        },
        "db77bbe2e0c84609bc6607e395e7d2fe": {
          "model_module": "@jupyter-widgets/controls",
          "model_module_version": "1.5.0",
          "model_name": "HTMLModel",
          "state": {
            "_dom_classes": [],
            "_model_module": "@jupyter-widgets/controls",
            "_model_module_version": "1.5.0",
            "_model_name": "HTMLModel",
            "_view_count": null,
            "_view_module": "@jupyter-widgets/controls",
            "_view_module_version": "1.5.0",
            "_view_name": "HTMLView",
            "description": "",
            "description_tooltip": null,
            "layout": "IPY_MODEL_50c49829638d4d1799a3e0f969a49f52",
            "placeholder": "​",
            "style": "IPY_MODEL_a1c2c03d3d334f05a5c3e934dbb84817",
            "value": " 69071/69071 [00:12&lt;00:00, 5767.32 examples/s]"
          }
        },
        "dce0de8bb9534325850e7877b12de36c": {
          "model_module": "@jupyter-widgets/base",
          "model_module_version": "1.2.0",
          "model_name": "LayoutModel",
          "state": {
            "_model_module": "@jupyter-widgets/base",
            "_model_module_version": "1.2.0",
            "_model_name": "LayoutModel",
            "_view_count": null,
            "_view_module": "@jupyter-widgets/base",
            "_view_module_version": "1.2.0",
            "_view_name": "LayoutView",
            "align_content": null,
            "align_items": null,
            "align_self": null,
            "border": null,
            "bottom": null,
            "display": null,
            "flex": null,
            "flex_flow": null,
            "grid_area": null,
            "grid_auto_columns": null,
            "grid_auto_flow": null,
            "grid_auto_rows": null,
            "grid_column": null,
            "grid_gap": null,
            "grid_row": null,
            "grid_template_areas": null,
            "grid_template_columns": null,
            "grid_template_rows": null,
            "height": null,
            "justify_content": null,
            "justify_items": null,
            "left": null,
            "margin": null,
            "max_height": null,
            "max_width": null,
            "min_height": null,
            "min_width": null,
            "object_fit": null,
            "object_position": null,
            "order": null,
            "overflow": null,
            "overflow_x": null,
            "overflow_y": null,
            "padding": null,
            "right": null,
            "top": null,
            "visibility": null,
            "width": null
          }
        },
        "dda6a96992574a2695c07ae723bd6065": {
          "model_module": "@jupyter-widgets/controls",
          "model_module_version": "1.5.0",
          "model_name": "DescriptionStyleModel",
          "state": {
            "_model_module": "@jupyter-widgets/controls",
            "_model_module_version": "1.5.0",
            "_model_name": "DescriptionStyleModel",
            "_view_count": null,
            "_view_module": "@jupyter-widgets/base",
            "_view_module_version": "1.2.0",
            "_view_name": "StyleView",
            "description_width": ""
          }
        },
        "e4167b81f33e4d4b820c809585b052aa": {
          "model_module": "@jupyter-widgets/base",
          "model_module_version": "1.2.0",
          "model_name": "LayoutModel",
          "state": {
            "_model_module": "@jupyter-widgets/base",
            "_model_module_version": "1.2.0",
            "_model_name": "LayoutModel",
            "_view_count": null,
            "_view_module": "@jupyter-widgets/base",
            "_view_module_version": "1.2.0",
            "_view_name": "LayoutView",
            "align_content": null,
            "align_items": null,
            "align_self": null,
            "border": null,
            "bottom": null,
            "display": null,
            "flex": null,
            "flex_flow": null,
            "grid_area": null,
            "grid_auto_columns": null,
            "grid_auto_flow": null,
            "grid_auto_rows": null,
            "grid_column": null,
            "grid_gap": null,
            "grid_row": null,
            "grid_template_areas": null,
            "grid_template_columns": null,
            "grid_template_rows": null,
            "height": null,
            "justify_content": null,
            "justify_items": null,
            "left": null,
            "margin": null,
            "max_height": null,
            "max_width": null,
            "min_height": null,
            "min_width": null,
            "object_fit": null,
            "object_position": null,
            "order": null,
            "overflow": null,
            "overflow_x": null,
            "overflow_y": null,
            "padding": null,
            "right": null,
            "top": null,
            "visibility": null,
            "width": null
          }
        },
        "e7ab71ab26fb42efae5b0f12f9793203": {
          "model_module": "@jupyter-widgets/controls",
          "model_module_version": "1.5.0",
          "model_name": "HBoxModel",
          "state": {
            "_dom_classes": [],
            "_model_module": "@jupyter-widgets/controls",
            "_model_module_version": "1.5.0",
            "_model_name": "HBoxModel",
            "_view_count": null,
            "_view_module": "@jupyter-widgets/controls",
            "_view_module_version": "1.5.0",
            "_view_name": "HBoxView",
            "box_style": "",
            "children": [
              "IPY_MODEL_1a6d6058b0124b469b989dd60101b9e0",
              "IPY_MODEL_fd9e3971fda74302a13ecce0916a99c8",
              "IPY_MODEL_0b73d7a171a549a393339fa44d8b0a87"
            ],
            "layout": "IPY_MODEL_fa59800d8c344eceac34b89a93574de9"
          }
        },
        "ea62b26455b047fca9c293f632abb568": {
          "model_module": "@jupyter-widgets/controls",
          "model_module_version": "1.5.0",
          "model_name": "DescriptionStyleModel",
          "state": {
            "_model_module": "@jupyter-widgets/controls",
            "_model_module_version": "1.5.0",
            "_model_name": "DescriptionStyleModel",
            "_view_count": null,
            "_view_module": "@jupyter-widgets/base",
            "_view_module_version": "1.2.0",
            "_view_name": "StyleView",
            "description_width": ""
          }
        },
        "eb468f11da4242b08651c8c0cd0d15ee": {
          "model_module": "@jupyter-widgets/base",
          "model_module_version": "1.2.0",
          "model_name": "LayoutModel",
          "state": {
            "_model_module": "@jupyter-widgets/base",
            "_model_module_version": "1.2.0",
            "_model_name": "LayoutModel",
            "_view_count": null,
            "_view_module": "@jupyter-widgets/base",
            "_view_module_version": "1.2.0",
            "_view_name": "LayoutView",
            "align_content": null,
            "align_items": null,
            "align_self": null,
            "border": null,
            "bottom": null,
            "display": null,
            "flex": null,
            "flex_flow": null,
            "grid_area": null,
            "grid_auto_columns": null,
            "grid_auto_flow": null,
            "grid_auto_rows": null,
            "grid_column": null,
            "grid_gap": null,
            "grid_row": null,
            "grid_template_areas": null,
            "grid_template_columns": null,
            "grid_template_rows": null,
            "height": null,
            "justify_content": null,
            "justify_items": null,
            "left": null,
            "margin": null,
            "max_height": null,
            "max_width": null,
            "min_height": null,
            "min_width": null,
            "object_fit": null,
            "object_position": null,
            "order": null,
            "overflow": null,
            "overflow_x": null,
            "overflow_y": null,
            "padding": null,
            "right": null,
            "top": null,
            "visibility": null,
            "width": null
          }
        },
        "ee40f3e19e1546e8b63d85145b4d9186": {
          "model_module": "@jupyter-widgets/controls",
          "model_module_version": "1.5.0",
          "model_name": "HBoxModel",
          "state": {
            "_dom_classes": [],
            "_model_module": "@jupyter-widgets/controls",
            "_model_module_version": "1.5.0",
            "_model_name": "HBoxModel",
            "_view_count": null,
            "_view_module": "@jupyter-widgets/controls",
            "_view_module_version": "1.5.0",
            "_view_name": "HBoxView",
            "box_style": "",
            "children": [
              "IPY_MODEL_77a441cd0bdc4b28a8036ffe0d1c78d5",
              "IPY_MODEL_385a75cdff02410189136ad78b00871b",
              "IPY_MODEL_b11487858e55467e8bca6744d597a442"
            ],
            "layout": "IPY_MODEL_a8e228827b64471a800f4a92d1c0861b"
          }
        },
        "f7f965cce2904da69bd158f2d19ce41d": {
          "model_module": "@jupyter-widgets/controls",
          "model_module_version": "1.5.0",
          "model_name": "HBoxModel",
          "state": {
            "_dom_classes": [],
            "_model_module": "@jupyter-widgets/controls",
            "_model_module_version": "1.5.0",
            "_model_name": "HBoxModel",
            "_view_count": null,
            "_view_module": "@jupyter-widgets/controls",
            "_view_module_version": "1.5.0",
            "_view_name": "HBoxView",
            "box_style": "",
            "children": [
              "IPY_MODEL_4269fb6e51e84443a44041251ce21fb7",
              "IPY_MODEL_b0dccf12e266459c99ad6ea0bcfa1545",
              "IPY_MODEL_37e71795ba9549c299e6cec1d2832865"
            ],
            "layout": "IPY_MODEL_7b2df9789b154c30a0e2be6a802e3aba"
          }
        },
        "f8a660b94f674b51ac17dd4c11e44c30": {
          "model_module": "@jupyter-widgets/base",
          "model_module_version": "1.2.0",
          "model_name": "LayoutModel",
          "state": {
            "_model_module": "@jupyter-widgets/base",
            "_model_module_version": "1.2.0",
            "_model_name": "LayoutModel",
            "_view_count": null,
            "_view_module": "@jupyter-widgets/base",
            "_view_module_version": "1.2.0",
            "_view_name": "LayoutView",
            "align_content": null,
            "align_items": null,
            "align_self": null,
            "border": null,
            "bottom": null,
            "display": null,
            "flex": null,
            "flex_flow": null,
            "grid_area": null,
            "grid_auto_columns": null,
            "grid_auto_flow": null,
            "grid_auto_rows": null,
            "grid_column": null,
            "grid_gap": null,
            "grid_row": null,
            "grid_template_areas": null,
            "grid_template_columns": null,
            "grid_template_rows": null,
            "height": null,
            "justify_content": null,
            "justify_items": null,
            "left": null,
            "margin": null,
            "max_height": null,
            "max_width": null,
            "min_height": null,
            "min_width": null,
            "object_fit": null,
            "object_position": null,
            "order": null,
            "overflow": null,
            "overflow_x": null,
            "overflow_y": null,
            "padding": null,
            "right": null,
            "top": null,
            "visibility": null,
            "width": null
          }
        },
        "fa59800d8c344eceac34b89a93574de9": {
          "model_module": "@jupyter-widgets/base",
          "model_module_version": "1.2.0",
          "model_name": "LayoutModel",
          "state": {
            "_model_module": "@jupyter-widgets/base",
            "_model_module_version": "1.2.0",
            "_model_name": "LayoutModel",
            "_view_count": null,
            "_view_module": "@jupyter-widgets/base",
            "_view_module_version": "1.2.0",
            "_view_name": "LayoutView",
            "align_content": null,
            "align_items": null,
            "align_self": null,
            "border": null,
            "bottom": null,
            "display": null,
            "flex": null,
            "flex_flow": null,
            "grid_area": null,
            "grid_auto_columns": null,
            "grid_auto_flow": null,
            "grid_auto_rows": null,
            "grid_column": null,
            "grid_gap": null,
            "grid_row": null,
            "grid_template_areas": null,
            "grid_template_columns": null,
            "grid_template_rows": null,
            "height": null,
            "justify_content": null,
            "justify_items": null,
            "left": null,
            "margin": null,
            "max_height": null,
            "max_width": null,
            "min_height": null,
            "min_width": null,
            "object_fit": null,
            "object_position": null,
            "order": null,
            "overflow": null,
            "overflow_x": null,
            "overflow_y": null,
            "padding": null,
            "right": null,
            "top": null,
            "visibility": null,
            "width": null
          }
        },
        "fd9e3971fda74302a13ecce0916a99c8": {
          "model_module": "@jupyter-widgets/controls",
          "model_module_version": "1.5.0",
          "model_name": "FloatProgressModel",
          "state": {
            "_dom_classes": [],
            "_model_module": "@jupyter-widgets/controls",
            "_model_module_version": "1.5.0",
            "_model_name": "FloatProgressModel",
            "_view_count": null,
            "_view_module": "@jupyter-widgets/controls",
            "_view_module_version": "1.5.0",
            "_view_name": "ProgressView",
            "bar_style": "success",
            "description": "",
            "description_tooltip": null,
            "layout": "IPY_MODEL_5a89ad8f06b8471cb6e764f1c7506779",
            "max": 691947,
            "min": 0,
            "orientation": "horizontal",
            "style": "IPY_MODEL_94c0d2949f7147f7993c6bdbbbb19667",
            "value": 691947
          }
        }
      }
    }
  },
  "nbformat": 4,
  "nbformat_minor": 0
}
